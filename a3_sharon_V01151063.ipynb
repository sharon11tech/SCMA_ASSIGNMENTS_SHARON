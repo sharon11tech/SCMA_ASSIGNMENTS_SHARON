{
 "cells": [
  {
   "cell_type": "code",
   "execution_count": 1,
   "id": "477365a8-d181-4d0c-a1f6-636608df8997",
   "metadata": {},
   "outputs": [],
   "source": [
    "import pandas as pd\n"
   ]
  },
  {
   "cell_type": "code",
   "execution_count": 2,
   "id": "974ae969-79a4-4f06-87ea-26892d54e98f",
   "metadata": {},
   "outputs": [
    {
     "data": {
      "text/plain": [
       "'C:\\\\Users\\\\sharo'"
      ]
     },
     "execution_count": 2,
     "metadata": {},
     "output_type": "execute_result"
    }
   ],
   "source": [
    "\n",
    "import os\n",
    "os.getcwd()"
   ]
  },
  {
   "cell_type": "code",
   "execution_count": 4,
   "id": "39b1e063-5c8f-4680-8e5d-a50c8105ba91",
   "metadata": {},
   "outputs": [],
   "source": [
    "\n",
    "os.chdir('C:\\\\vcu extra\\\\assignment\\\\data')"
   ]
  },
  {
   "cell_type": "code",
   "execution_count": 5,
   "id": "84a194d0-14b8-4adf-ae62-79567eb52b39",
   "metadata": {},
   "outputs": [],
   "source": [
    "ipl_bbb = pd.read_csv('C:\\\\vcu extra\\\\assignment\\\\data\\\\IPL_ball_by_ball_updated till 2024.csv',low_memory=False)"
   ]
  },
  {
   "cell_type": "code",
   "execution_count": 6,
   "id": "c891b325-cd5a-4edb-99e7-5e489e5752a1",
   "metadata": {},
   "outputs": [
    {
     "name": "stderr",
     "output_type": "stream",
     "text": [
      "C:\\Users\\sharo\\AppData\\Local\\Temp\\ipykernel_16272\\1762907577.py:1: FutureWarning: The provided callable <built-in function sum> is currently using SeriesGroupBy.sum. In a future version of pandas, the provided callable will be used directly. To keep current behavior pass the string \"sum\" instead.\n",
      "  grouped_data = ipl_bbb.groupby(['Season', 'Innings No', 'Striker','Bowler']).agg({'runs_scored': sum, 'wicket_confirmation':sum}).reset_index()\n",
      "C:\\Users\\sharo\\AppData\\Local\\Temp\\ipykernel_16272\\1762907577.py:1: FutureWarning: The provided callable <built-in function sum> is currently using SeriesGroupBy.sum. In a future version of pandas, the provided callable will be used directly. To keep current behavior pass the string \"sum\" instead.\n",
      "  grouped_data = ipl_bbb.groupby(['Season', 'Innings No', 'Striker','Bowler']).agg({'runs_scored': sum, 'wicket_confirmation':sum}).reset_index()\n"
     ]
    }
   ],
   "source": [
    "grouped_data = ipl_bbb.groupby(['Season', 'Innings No', 'Striker','Bowler']).agg({'runs_scored': sum, 'wicket_confirmation':sum}).reset_index()"
   ]
  },
  {
   "cell_type": "code",
   "execution_count": 7,
   "id": "8904f9a7-dce6-49ac-9f33-6b7c19383b3f",
   "metadata": {},
   "outputs": [],
   "source": [
    "player_runs = grouped_data.groupby(['Season', 'Striker'])['runs_scored'].sum().reset_index()\n",
    "player_wickets = grouped_data.groupby(['Season', 'Bowler'])['wicket_confirmation'].sum().reset_index()"
   ]
  },
  {
   "cell_type": "markdown",
   "id": "cdc7179b-00f2-41de-9be8-87b948df2c0f",
   "metadata": {},
   "source": [
    "**a) NSS068 data multiple regression**"
   ]
  },
  {
   "cell_type": "code",
   "execution_count": 9,
   "id": "70d5b0fd-f4d6-4c73-847f-fb9cfa95539f",
   "metadata": {},
   "outputs": [],
   "source": [
    "import pandas as pd\n",
    "import numpy as np\n",
    "import statsmodels.api as sm\n",
    "from statsmodels.stats.outliers_influence import variance_inflation_factor"
   ]
  },
  {
   "cell_type": "code",
   "execution_count": 10,
   "id": "f9cac3bf-116e-4fa2-a2d7-5a5e707a5d44",
   "metadata": {},
   "outputs": [],
   "source": [
    "data = pd.read_csv(\"C:\\\\vcu extra\\\\assignment\\\\data\\\\NSSO68.csv\",low_memory=False)"
   ]
  },
  {
   "cell_type": "code",
   "execution_count": 11,
   "id": "ac870261-2bca-4405-86fa-4cb9a30c6d6e",
   "metadata": {},
   "outputs": [
    {
     "name": "stdout",
     "output_type": "stream",
     "text": [
      "['GUJ' 'ORI' 'CHTSD' 'MP' 'JRKD' 'WB' 'AP' 'MH' 'D&D' 'D&NH' 'MIZ' 'TRPR'\n",
      " 'MANPR' 'ASSM' 'MEG' 'NAG' 'A&N' 'PNDCRY' 'TN' 'GOA' 'KA' 'KE' 'LKSDP'\n",
      " 'SKM' 'Bhr' 'UP' 'RJ' 'ARP' 'DL' 'HR' 'Pun' 'HP' 'UT' 'Chandr' 'J$K']\n"
     ]
    }
   ],
   "source": [
    "print(data['state_1'].unique())"
   ]
  },
  {
   "cell_type": "code",
   "execution_count": 12,
   "id": "70235c54-e80b-45fe-8755-b677ba7f0b4c",
   "metadata": {},
   "outputs": [
    {
     "data": {
      "text/plain": [
       "(101662, 384)"
      ]
     },
     "execution_count": 12,
     "metadata": {},
     "output_type": "execute_result"
    }
   ],
   "source": [
    "data.shape"
   ]
  },
  {
   "cell_type": "code",
   "execution_count": 14,
   "id": "e522b88a-e269-4b33-b0e7-c293f5f7bfd5",
   "metadata": {},
   "outputs": [
    {
     "data": {
      "text/html": [
       "<div>\n",
       "<style scoped>\n",
       "    .dataframe tbody tr th:only-of-type {\n",
       "        vertical-align: middle;\n",
       "    }\n",
       "\n",
       "    .dataframe tbody tr th {\n",
       "        vertical-align: top;\n",
       "    }\n",
       "\n",
       "    .dataframe thead th {\n",
       "        text-align: right;\n",
       "    }\n",
       "</style>\n",
       "<table border=\"1\" class=\"dataframe\">\n",
       "  <thead>\n",
       "    <tr style=\"text-align: right;\">\n",
       "      <th></th>\n",
       "      <th>slno</th>\n",
       "      <th>grp</th>\n",
       "      <th>Round_Centre</th>\n",
       "      <th>FSU_number</th>\n",
       "      <th>Round</th>\n",
       "      <th>Schedule_Number</th>\n",
       "      <th>Sample</th>\n",
       "      <th>Sector</th>\n",
       "      <th>state</th>\n",
       "      <th>State_Region</th>\n",
       "      <th>...</th>\n",
       "      <th>pickle_v</th>\n",
       "      <th>sauce_jam_v</th>\n",
       "      <th>Othrprocessed_v</th>\n",
       "      <th>Beveragestotal_v</th>\n",
       "      <th>foodtotal_v</th>\n",
       "      <th>foodtotal_q</th>\n",
       "      <th>state_1</th>\n",
       "      <th>Region</th>\n",
       "      <th>fruits_df_tt_v</th>\n",
       "      <th>fv_tot</th>\n",
       "    </tr>\n",
       "  </thead>\n",
       "  <tbody>\n",
       "    <tr>\n",
       "      <th>23109</th>\n",
       "      <td>23110</td>\n",
       "      <td>4.61E+31</td>\n",
       "      <td>1</td>\n",
       "      <td>46141</td>\n",
       "      <td>68</td>\n",
       "      <td>10</td>\n",
       "      <td>1</td>\n",
       "      <td>2</td>\n",
       "      <td>29</td>\n",
       "      <td>294</td>\n",
       "      <td>...</td>\n",
       "      <td>0.003571</td>\n",
       "      <td>0.0</td>\n",
       "      <td>0.0</td>\n",
       "      <td>17.860714</td>\n",
       "      <td>373.986857</td>\n",
       "      <td>17.925351</td>\n",
       "      <td>KA</td>\n",
       "      <td>4</td>\n",
       "      <td>20.642857</td>\n",
       "      <td>61.685714</td>\n",
       "    </tr>\n",
       "    <tr>\n",
       "      <th>23110</th>\n",
       "      <td>23111</td>\n",
       "      <td>4.61E+31</td>\n",
       "      <td>1</td>\n",
       "      <td>46141</td>\n",
       "      <td>68</td>\n",
       "      <td>10</td>\n",
       "      <td>1</td>\n",
       "      <td>2</td>\n",
       "      <td>29</td>\n",
       "      <td>294</td>\n",
       "      <td>...</td>\n",
       "      <td>0.001667</td>\n",
       "      <td>0.0</td>\n",
       "      <td>0.0</td>\n",
       "      <td>6.668333</td>\n",
       "      <td>676.954000</td>\n",
       "      <td>25.517352</td>\n",
       "      <td>KA</td>\n",
       "      <td>4</td>\n",
       "      <td>25.333333</td>\n",
       "      <td>137.433333</td>\n",
       "    </tr>\n",
       "    <tr>\n",
       "      <th>23111</th>\n",
       "      <td>23112</td>\n",
       "      <td>4.61E+31</td>\n",
       "      <td>1</td>\n",
       "      <td>46141</td>\n",
       "      <td>68</td>\n",
       "      <td>10</td>\n",
       "      <td>1</td>\n",
       "      <td>2</td>\n",
       "      <td>29</td>\n",
       "      <td>294</td>\n",
       "      <td>...</td>\n",
       "      <td>0.000000</td>\n",
       "      <td>0.0</td>\n",
       "      <td>0.0</td>\n",
       "      <td>7.000000</td>\n",
       "      <td>652.801800</td>\n",
       "      <td>25.470640</td>\n",
       "      <td>KA</td>\n",
       "      <td>4</td>\n",
       "      <td>28.800000</td>\n",
       "      <td>124.296000</td>\n",
       "    </tr>\n",
       "    <tr>\n",
       "      <th>23112</th>\n",
       "      <td>23113</td>\n",
       "      <td>4.61E+31</td>\n",
       "      <td>1</td>\n",
       "      <td>46141</td>\n",
       "      <td>68</td>\n",
       "      <td>10</td>\n",
       "      <td>1</td>\n",
       "      <td>2</td>\n",
       "      <td>29</td>\n",
       "      <td>294</td>\n",
       "      <td>...</td>\n",
       "      <td>0.002000</td>\n",
       "      <td>0.0</td>\n",
       "      <td>0.0</td>\n",
       "      <td>0.002000</td>\n",
       "      <td>680.976667</td>\n",
       "      <td>29.984010</td>\n",
       "      <td>KA</td>\n",
       "      <td>4</td>\n",
       "      <td>87.000000</td>\n",
       "      <td>223.453333</td>\n",
       "    </tr>\n",
       "    <tr>\n",
       "      <th>23113</th>\n",
       "      <td>23114</td>\n",
       "      <td>4.61E+31</td>\n",
       "      <td>1</td>\n",
       "      <td>46141</td>\n",
       "      <td>68</td>\n",
       "      <td>10</td>\n",
       "      <td>1</td>\n",
       "      <td>2</td>\n",
       "      <td>29</td>\n",
       "      <td>294</td>\n",
       "      <td>...</td>\n",
       "      <td>0.004800</td>\n",
       "      <td>0.0</td>\n",
       "      <td>0.0</td>\n",
       "      <td>11.604800</td>\n",
       "      <td>516.512000</td>\n",
       "      <td>17.760602</td>\n",
       "      <td>KA</td>\n",
       "      <td>4</td>\n",
       "      <td>7.800000</td>\n",
       "      <td>62.096000</td>\n",
       "    </tr>\n",
       "    <tr>\n",
       "      <th>...</th>\n",
       "      <td>...</td>\n",
       "      <td>...</td>\n",
       "      <td>...</td>\n",
       "      <td>...</td>\n",
       "      <td>...</td>\n",
       "      <td>...</td>\n",
       "      <td>...</td>\n",
       "      <td>...</td>\n",
       "      <td>...</td>\n",
       "      <td>...</td>\n",
       "      <td>...</td>\n",
       "      <td>...</td>\n",
       "      <td>...</td>\n",
       "      <td>...</td>\n",
       "      <td>...</td>\n",
       "      <td>...</td>\n",
       "      <td>...</td>\n",
       "      <td>...</td>\n",
       "      <td>...</td>\n",
       "      <td>...</td>\n",
       "      <td>...</td>\n",
       "    </tr>\n",
       "    <tr>\n",
       "      <th>64086</th>\n",
       "      <td>64087</td>\n",
       "      <td>7.37E+31</td>\n",
       "      <td>1</td>\n",
       "      <td>73699</td>\n",
       "      <td>68</td>\n",
       "      <td>10</td>\n",
       "      <td>1</td>\n",
       "      <td>1</td>\n",
       "      <td>29</td>\n",
       "      <td>294</td>\n",
       "      <td>...</td>\n",
       "      <td>0.000000</td>\n",
       "      <td>0.0</td>\n",
       "      <td>0.0</td>\n",
       "      <td>13.333333</td>\n",
       "      <td>383.589333</td>\n",
       "      <td>16.200258</td>\n",
       "      <td>KA</td>\n",
       "      <td>4</td>\n",
       "      <td>11.983333</td>\n",
       "      <td>70.220000</td>\n",
       "    </tr>\n",
       "    <tr>\n",
       "      <th>64087</th>\n",
       "      <td>64088</td>\n",
       "      <td>7.37E+31</td>\n",
       "      <td>1</td>\n",
       "      <td>73699</td>\n",
       "      <td>68</td>\n",
       "      <td>10</td>\n",
       "      <td>1</td>\n",
       "      <td>1</td>\n",
       "      <td>29</td>\n",
       "      <td>294</td>\n",
       "      <td>...</td>\n",
       "      <td>0.000000</td>\n",
       "      <td>0.0</td>\n",
       "      <td>0.0</td>\n",
       "      <td>7.500000</td>\n",
       "      <td>668.425250</td>\n",
       "      <td>24.787846</td>\n",
       "      <td>KA</td>\n",
       "      <td>4</td>\n",
       "      <td>50.250000</td>\n",
       "      <td>188.650000</td>\n",
       "    </tr>\n",
       "    <tr>\n",
       "      <th>64088</th>\n",
       "      <td>64089</td>\n",
       "      <td>7.37E+31</td>\n",
       "      <td>1</td>\n",
       "      <td>73699</td>\n",
       "      <td>68</td>\n",
       "      <td>10</td>\n",
       "      <td>1</td>\n",
       "      <td>1</td>\n",
       "      <td>29</td>\n",
       "      <td>294</td>\n",
       "      <td>...</td>\n",
       "      <td>0.000000</td>\n",
       "      <td>0.0</td>\n",
       "      <td>0.0</td>\n",
       "      <td>3.333333</td>\n",
       "      <td>401.236500</td>\n",
       "      <td>15.100283</td>\n",
       "      <td>KA</td>\n",
       "      <td>4</td>\n",
       "      <td>21.083333</td>\n",
       "      <td>94.466667</td>\n",
       "    </tr>\n",
       "    <tr>\n",
       "      <th>64089</th>\n",
       "      <td>64090</td>\n",
       "      <td>7.37E+31</td>\n",
       "      <td>1</td>\n",
       "      <td>73699</td>\n",
       "      <td>68</td>\n",
       "      <td>10</td>\n",
       "      <td>1</td>\n",
       "      <td>1</td>\n",
       "      <td>29</td>\n",
       "      <td>294</td>\n",
       "      <td>...</td>\n",
       "      <td>0.000000</td>\n",
       "      <td>0.0</td>\n",
       "      <td>0.0</td>\n",
       "      <td>2.500000</td>\n",
       "      <td>365.097625</td>\n",
       "      <td>16.175296</td>\n",
       "      <td>KA</td>\n",
       "      <td>4</td>\n",
       "      <td>27.612500</td>\n",
       "      <td>79.827500</td>\n",
       "    </tr>\n",
       "    <tr>\n",
       "      <th>64090</th>\n",
       "      <td>64091</td>\n",
       "      <td>7.37E+31</td>\n",
       "      <td>1</td>\n",
       "      <td>73699</td>\n",
       "      <td>68</td>\n",
       "      <td>10</td>\n",
       "      <td>1</td>\n",
       "      <td>1</td>\n",
       "      <td>29</td>\n",
       "      <td>294</td>\n",
       "      <td>...</td>\n",
       "      <td>0.000000</td>\n",
       "      <td>0.0</td>\n",
       "      <td>0.0</td>\n",
       "      <td>10.000000</td>\n",
       "      <td>553.441000</td>\n",
       "      <td>23.075418</td>\n",
       "      <td>KA</td>\n",
       "      <td>4</td>\n",
       "      <td>25.750000</td>\n",
       "      <td>153.900000</td>\n",
       "    </tr>\n",
       "  </tbody>\n",
       "</table>\n",
       "<p>4094 rows × 384 columns</p>\n",
       "</div>"
      ],
      "text/plain": [
       "        slno       grp  Round_Centre  FSU_number  Round  Schedule_Number  \\\n",
       "23109  23110  4.61E+31             1       46141     68               10   \n",
       "23110  23111  4.61E+31             1       46141     68               10   \n",
       "23111  23112  4.61E+31             1       46141     68               10   \n",
       "23112  23113  4.61E+31             1       46141     68               10   \n",
       "23113  23114  4.61E+31             1       46141     68               10   \n",
       "...      ...       ...           ...         ...    ...              ...   \n",
       "64086  64087  7.37E+31             1       73699     68               10   \n",
       "64087  64088  7.37E+31             1       73699     68               10   \n",
       "64088  64089  7.37E+31             1       73699     68               10   \n",
       "64089  64090  7.37E+31             1       73699     68               10   \n",
       "64090  64091  7.37E+31             1       73699     68               10   \n",
       "\n",
       "       Sample  Sector  state  State_Region  ...  pickle_v  sauce_jam_v  \\\n",
       "23109       1       2     29           294  ...  0.003571          0.0   \n",
       "23110       1       2     29           294  ...  0.001667          0.0   \n",
       "23111       1       2     29           294  ...  0.000000          0.0   \n",
       "23112       1       2     29           294  ...  0.002000          0.0   \n",
       "23113       1       2     29           294  ...  0.004800          0.0   \n",
       "...       ...     ...    ...           ...  ...       ...          ...   \n",
       "64086       1       1     29           294  ...  0.000000          0.0   \n",
       "64087       1       1     29           294  ...  0.000000          0.0   \n",
       "64088       1       1     29           294  ...  0.000000          0.0   \n",
       "64089       1       1     29           294  ...  0.000000          0.0   \n",
       "64090       1       1     29           294  ...  0.000000          0.0   \n",
       "\n",
       "       Othrprocessed_v  Beveragestotal_v  foodtotal_v  foodtotal_q  state_1  \\\n",
       "23109              0.0         17.860714   373.986857    17.925351       KA   \n",
       "23110              0.0          6.668333   676.954000    25.517352       KA   \n",
       "23111              0.0          7.000000   652.801800    25.470640       KA   \n",
       "23112              0.0          0.002000   680.976667    29.984010       KA   \n",
       "23113              0.0         11.604800   516.512000    17.760602       KA   \n",
       "...                ...               ...          ...          ...      ...   \n",
       "64086              0.0         13.333333   383.589333    16.200258       KA   \n",
       "64087              0.0          7.500000   668.425250    24.787846       KA   \n",
       "64088              0.0          3.333333   401.236500    15.100283       KA   \n",
       "64089              0.0          2.500000   365.097625    16.175296       KA   \n",
       "64090              0.0         10.000000   553.441000    23.075418       KA   \n",
       "\n",
       "       Region  fruits_df_tt_v      fv_tot  \n",
       "23109       4       20.642857   61.685714  \n",
       "23110       4       25.333333  137.433333  \n",
       "23111       4       28.800000  124.296000  \n",
       "23112       4       87.000000  223.453333  \n",
       "23113       4        7.800000   62.096000  \n",
       "...       ...             ...         ...  \n",
       "64086       4       11.983333   70.220000  \n",
       "64087       4       50.250000  188.650000  \n",
       "64088       4       21.083333   94.466667  \n",
       "64089       4       27.612500   79.827500  \n",
       "64090       4       25.750000  153.900000  \n",
       "\n",
       "[4094 rows x 384 columns]"
      ]
     },
     "execution_count": 14,
     "metadata": {},
     "output_type": "execute_result"
    }
   ],
   "source": [
    "data[data['state_1']=='KA']"
   ]
  },
  {
   "cell_type": "code",
   "execution_count": 15,
   "id": "8782ce79-650c-491e-8376-b57861f916cf",
   "metadata": {},
   "outputs": [],
   "source": [
    "subset_data = data[['foodtotal_q', 'MPCE_MRP', 'Age', 'Meals_At_Home', 'Possess_ration_card', 'Education', 'No_of_Meals_per_day']]"
   ]
  },
  {
   "cell_type": "code",
   "execution_count": 16,
   "id": "4d10de1f-cff1-4507-972b-2d10572e6d44",
   "metadata": {},
   "outputs": [
    {
     "data": {
      "text/html": [
       "<div>\n",
       "<style scoped>\n",
       "    .dataframe tbody tr th:only-of-type {\n",
       "        vertical-align: middle;\n",
       "    }\n",
       "\n",
       "    .dataframe tbody tr th {\n",
       "        vertical-align: top;\n",
       "    }\n",
       "\n",
       "    .dataframe thead th {\n",
       "        text-align: right;\n",
       "    }\n",
       "</style>\n",
       "<table border=\"1\" class=\"dataframe\">\n",
       "  <thead>\n",
       "    <tr style=\"text-align: right;\">\n",
       "      <th></th>\n",
       "      <th>foodtotal_q</th>\n",
       "      <th>MPCE_MRP</th>\n",
       "      <th>Age</th>\n",
       "      <th>Meals_At_Home</th>\n",
       "      <th>Possess_ration_card</th>\n",
       "      <th>Education</th>\n",
       "      <th>No_of_Meals_per_day</th>\n",
       "    </tr>\n",
       "  </thead>\n",
       "  <tbody>\n",
       "    <tr>\n",
       "      <th>0</th>\n",
       "      <td>30.942394</td>\n",
       "      <td>3662.65</td>\n",
       "      <td>50</td>\n",
       "      <td>59.0</td>\n",
       "      <td>1.0</td>\n",
       "      <td>8.0</td>\n",
       "      <td>2.0</td>\n",
       "    </tr>\n",
       "    <tr>\n",
       "      <th>1</th>\n",
       "      <td>29.286153</td>\n",
       "      <td>5624.51</td>\n",
       "      <td>40</td>\n",
       "      <td>56.0</td>\n",
       "      <td>1.0</td>\n",
       "      <td>12.0</td>\n",
       "      <td>2.0</td>\n",
       "    </tr>\n",
       "    <tr>\n",
       "      <th>2</th>\n",
       "      <td>31.527046</td>\n",
       "      <td>3657.18</td>\n",
       "      <td>45</td>\n",
       "      <td>60.0</td>\n",
       "      <td>1.0</td>\n",
       "      <td>7.0</td>\n",
       "      <td>2.0</td>\n",
       "    </tr>\n",
       "    <tr>\n",
       "      <th>3</th>\n",
       "      <td>27.834607</td>\n",
       "      <td>3260.37</td>\n",
       "      <td>75</td>\n",
       "      <td>60.0</td>\n",
       "      <td>1.0</td>\n",
       "      <td>6.0</td>\n",
       "      <td>2.0</td>\n",
       "    </tr>\n",
       "    <tr>\n",
       "      <th>4</th>\n",
       "      <td>27.600713</td>\n",
       "      <td>2627.54</td>\n",
       "      <td>30</td>\n",
       "      <td>59.0</td>\n",
       "      <td>1.0</td>\n",
       "      <td>7.0</td>\n",
       "      <td>2.0</td>\n",
       "    </tr>\n",
       "  </tbody>\n",
       "</table>\n",
       "</div>"
      ],
      "text/plain": [
       "   foodtotal_q  MPCE_MRP  Age  Meals_At_Home  Possess_ration_card  Education  \\\n",
       "0    30.942394   3662.65   50           59.0                  1.0        8.0   \n",
       "1    29.286153   5624.51   40           56.0                  1.0       12.0   \n",
       "2    31.527046   3657.18   45           60.0                  1.0        7.0   \n",
       "3    27.834607   3260.37   75           60.0                  1.0        6.0   \n",
       "4    27.600713   2627.54   30           59.0                  1.0        7.0   \n",
       "\n",
       "   No_of_Meals_per_day  \n",
       "0                  2.0  \n",
       "1                  2.0  \n",
       "2                  2.0  \n",
       "3                  2.0  \n",
       "4                  2.0  "
      ]
     },
     "execution_count": 16,
     "metadata": {},
     "output_type": "execute_result"
    }
   ],
   "source": [
    "subset_data.head()"
   ]
  },
  {
   "cell_type": "code",
   "execution_count": 17,
   "id": "308950aa-6daa-40c9-a912-b763f16fa31a",
   "metadata": {},
   "outputs": [
    {
     "name": "stdout",
     "output_type": "stream",
     "text": [
      "<class 'pandas.core.frame.DataFrame'>\n",
      "RangeIndex: 101662 entries, 0 to 101661\n",
      "Data columns (total 7 columns):\n",
      " #   Column               Non-Null Count   Dtype  \n",
      "---  ------               --------------   -----  \n",
      " 0   foodtotal_q          101662 non-null  float64\n",
      " 1   MPCE_MRP             101662 non-null  float64\n",
      " 2   Age                  101662 non-null  int64  \n",
      " 3   Meals_At_Home        100443 non-null  float64\n",
      " 4   Possess_ration_card  101649 non-null  float64\n",
      " 5   Education            101655 non-null  float64\n",
      " 6   No_of_Meals_per_day  101637 non-null  float64\n",
      "dtypes: float64(6), int64(1)\n",
      "memory usage: 5.4 MB\n"
     ]
    }
   ],
   "source": [
    "\n",
    "subset_data.info()"
   ]
  },
  {
   "cell_type": "code",
   "execution_count": 18,
   "id": "65d01317-ba08-474c-b267-1d639e0491ac",
   "metadata": {},
   "outputs": [
    {
     "name": "stdout",
     "output_type": "stream",
     "text": [
      "0\n",
      "0\n",
      "13\n",
      "7\n"
     ]
    }
   ],
   "source": [
    "print(subset_data['MPCE_MRP'].isna().sum())\n",
    "print(subset_data['Age'].isna().sum())\n",
    "print(subset_data['Possess_ration_card'].isna().sum())\n",
    "print(data['Education'].isna().sum())"
   ]
  },
  {
   "cell_type": "code",
   "execution_count": 19,
   "id": "d72735db-a63f-4bac-a2fe-928fad0e452e",
   "metadata": {},
   "outputs": [],
   "source": [
    "def impute_with_mean(df, columns):\n",
    "    for col in columns:\n",
    "        df[col].fillna(df[col].mean(), inplace=True)\n",
    "    return df"
   ]
  },
  {
   "cell_type": "code",
   "execution_count": 20,
   "id": "143d2931-ee38-49dc-8d42-5cb22337119a",
   "metadata": {},
   "outputs": [
    {
     "name": "stderr",
     "output_type": "stream",
     "text": [
      "C:\\Users\\sharo\\AppData\\Local\\Temp\\ipykernel_16272\\3798086171.py:3: FutureWarning: A value is trying to be set on a copy of a DataFrame or Series through chained assignment using an inplace method.\n",
      "The behavior will change in pandas 3.0. This inplace method will never work because the intermediate object on which we are setting values always behaves as a copy.\n",
      "\n",
      "For example, when doing 'df[col].method(value, inplace=True)', try using 'df.method({col: value}, inplace=True)' or df[col] = df[col].method(value) instead, to perform the operation inplace on the original object.\n",
      "\n",
      "\n",
      "  df[col].fillna(df[col].mean(), inplace=True)\n",
      "C:\\Users\\sharo\\AppData\\Local\\Temp\\ipykernel_16272\\3798086171.py:3: SettingWithCopyWarning: \n",
      "A value is trying to be set on a copy of a slice from a DataFrame\n",
      "\n",
      "See the caveats in the documentation: https://pandas.pydata.org/pandas-docs/stable/user_guide/indexing.html#returning-a-view-versus-a-copy\n",
      "  df[col].fillna(df[col].mean(), inplace=True)\n"
     ]
    }
   ],
   "source": [
    "columns_to_impute = ['Education', 'MPCE_MRP', 'Age', 'Meals_At_Home', 'Possess_ration_card']\n",
    "\n",
    "\n",
    "subset_data = impute_with_mean(subset_data, columns_to_impute)\n",
    "\n",
    "\n",
    "subset_data = subset_data.replace([np.inf, -np.inf], np.nan)\n",
    "\n",
    "\n",
    "subset_data.dropna(inplace=True)"
   ]
  },
  {
   "cell_type": "code",
   "execution_count": 21,
   "id": "4fdda26c-ad65-4e0d-8515-efb4980c6900",
   "metadata": {},
   "outputs": [
    {
     "data": {
      "text/plain": [
       "foodtotal_q            0\n",
       "MPCE_MRP               0\n",
       "Age                    0\n",
       "Meals_At_Home          0\n",
       "Possess_ration_card    0\n",
       "Education              0\n",
       "No_of_Meals_per_day    0\n",
       "dtype: int64"
      ]
     },
     "execution_count": 21,
     "metadata": {},
     "output_type": "execute_result"
    }
   ],
   "source": [
    "\n",
    "subset_data.isna().sum()"
   ]
  },
  {
   "cell_type": "code",
   "execution_count": 22,
   "id": "2e45f116-700f-443b-a397-9d87d97a9a15",
   "metadata": {},
   "outputs": [],
   "source": [
    "X = subset_data[['MPCE_MRP', 'Age', 'Meals_At_Home', 'Possess_ration_card', 'Education']]\n",
    "X = sm.add_constant(X) "
   ]
  },
  {
   "cell_type": "code",
   "execution_count": 23,
   "id": "c1846420-d8f5-4229-bcbc-7d32d1d5b8b6",
   "metadata": {},
   "outputs": [
    {
     "data": {
      "text/plain": [
       "array([1.])"
      ]
     },
     "execution_count": 23,
     "metadata": {},
     "output_type": "execute_result"
    }
   ],
   "source": [
    "\n",
    "X.const.unique()"
   ]
  },
  {
   "cell_type": "code",
   "execution_count": 24,
   "id": "d40327e6-8704-4b61-97dc-4d10c7fdda56",
   "metadata": {},
   "outputs": [],
   "source": [
    "y = subset_data['foodtotal_q']"
   ]
  },
  {
   "cell_type": "code",
   "execution_count": 25,
   "id": "43b0855b-150e-425b-87f8-8ee24b07e444",
   "metadata": {},
   "outputs": [
    {
     "data": {
      "text/plain": [
       "0         30.942394\n",
       "1         29.286153\n",
       "2         31.527046\n",
       "3         27.834607\n",
       "4         27.600713\n",
       "            ...    \n",
       "101657    28.441750\n",
       "101658    25.490282\n",
       "101659    25.800107\n",
       "101660    30.220170\n",
       "101661    26.157279\n",
       "Name: foodtotal_q, Length: 101637, dtype: float64"
      ]
     },
     "execution_count": 25,
     "metadata": {},
     "output_type": "execute_result"
    }
   ],
   "source": [
    "\n",
    "y"
   ]
  },
  {
   "cell_type": "code",
   "execution_count": 26,
   "id": "6914bb48-44a1-4b77-85e6-4b013d11c13c",
   "metadata": {},
   "outputs": [
    {
     "name": "stdout",
     "output_type": "stream",
     "text": [
      "                            OLS Regression Results                            \n",
      "==============================================================================\n",
      "Dep. Variable:            foodtotal_q   R-squared:                       0.160\n",
      "Model:                            OLS   Adj. R-squared:                  0.159\n",
      "Method:                 Least Squares   F-statistic:                     3858.\n",
      "Date:                Wed, 25 Jun 2025   Prob (F-statistic):               0.00\n",
      "Time:                        12:30:14   Log-Likelihood:            -3.6905e+05\n",
      "No. Observations:              101637   AIC:                         7.381e+05\n",
      "Df Residuals:                  101631   BIC:                         7.382e+05\n",
      "Df Model:                           5                                         \n",
      "Covariance Type:            nonrobust                                         \n",
      "=======================================================================================\n",
      "                          coef    std err          t      P>|t|      [0.025      0.975]\n",
      "---------------------------------------------------------------------------------------\n",
      "const                  15.8351      0.210     75.549      0.000      15.424      16.246\n",
      "MPCE_MRP                0.0016   1.45e-05    113.142      0.000       0.002       0.002\n",
      "Age                     0.0781      0.002     35.268      0.000       0.074       0.082\n",
      "Meals_At_Home           0.0526      0.002     29.728      0.000       0.049       0.056\n",
      "Possess_ration_card    -2.4159      0.074    -32.492      0.000      -2.562      -2.270\n",
      "Education               0.1221      0.008     14.395      0.000       0.105       0.139\n",
      "==============================================================================\n",
      "Omnibus:                    82460.917   Durbin-Watson:                   1.379\n",
      "Prob(Omnibus):                  0.000   Jarque-Bera (JB):         23339925.723\n",
      "Skew:                           2.975   Prob(JB):                         0.00\n",
      "Kurtosis:                      77.000   Cond. No.                     2.22e+04\n",
      "==============================================================================\n",
      "\n",
      "Notes:\n",
      "[1] Standard Errors assume that the covariance matrix of the errors is correctly specified.\n",
      "[2] The condition number is large, 2.22e+04. This might indicate that there are\n",
      "strong multicollinearity or other numerical problems.\n"
     ]
    }
   ],
   "source": [
    "X = subset_data[['MPCE_MRP', 'Age', 'Meals_At_Home', 'Possess_ration_card', 'Education']]\n",
    "X = sm.add_constant(X)\n",
    "y = subset_data['foodtotal_q']\n",
    "model = sm.OLS(y, X).fit()\n",
    "print(model.summary())"
   ]
  },
  {
   "cell_type": "code",
   "execution_count": 27,
   "id": "cb1a5d9d-1be8-4492-be2e-d21ebeb6850c",
   "metadata": {},
   "outputs": [
    {
     "name": "stdout",
     "output_type": "stream",
     "text": [
      "               feature        VIF\n",
      "0                const  53.506122\n",
      "1             MPCE_MRP   1.143809\n",
      "2                  Age   1.089430\n",
      "3        Meals_At_Home   1.035334\n",
      "4  Possess_ration_card   1.092272\n",
      "5            Education   1.179806\n"
     ]
    }
   ],
   "source": [
    "vif_data = pd.DataFrame()\n",
    "vif_data['feature'] = X.columns\n",
    "vif_data['VIF'] = [variance_inflation_factor(X.values, i) for i in range(X.shape[1])]\n",
    "print(vif_data)\n",
    "\n",
    "coefficients = model.params"
   ]
  },
  {
   "cell_type": "code",
   "execution_count": 28,
   "id": "7606e6b9-512e-4007-9c9f-c773001ecfd3",
   "metadata": {},
   "outputs": [
    {
     "name": "stderr",
     "output_type": "stream",
     "text": [
      "C:\\Users\\sharo\\AppData\\Local\\Temp\\ipykernel_16272\\2035869409.py:1: FutureWarning: Series.__getitem__ treating keys as positions is deprecated. In a future version, integer keys will always be treated as labels (consistent with DataFrame behavior). To access a value by position, use `ser.iloc[pos]`\n",
      "  coefficients[0]\n"
     ]
    },
    {
     "data": {
      "text/plain": [
       "15.835107460912145"
      ]
     },
     "execution_count": 28,
     "metadata": {},
     "output_type": "execute_result"
    }
   ],
   "source": [
    "\n",
    "coefficients[0]"
   ]
  },
  {
   "cell_type": "code",
   "execution_count": 29,
   "id": "a563f215-f1ee-4bba-a713-32a7e00a4631",
   "metadata": {},
   "outputs": [
    {
     "name": "stdout",
     "output_type": "stream",
     "text": [
      "y = 15.84 + 0.001645*x1 + 0.078124*x2 + 0.052567*x3 + -2.41592*x4 + 0.122103*x5\n"
     ]
    }
   ],
   "source": [
    "equation = f\"y = {round(coefficients.iloc[0], 2)}\"\n",
    "for i in range(1, len(coefficients)):\n",
    "    equation += f\" + {round(coefficients.iloc[i], 6)}*x{i}\"\n",
    "print(equation)"
   ]
  },
  {
   "cell_type": "code",
   "execution_count": 30,
   "id": "1631b498-0dc2-440d-b53c-34aebf816ac1",
   "metadata": {},
   "outputs": [
    {
     "data": {
      "text/plain": [
       "15.835107460912145"
      ]
     },
     "execution_count": 30,
     "metadata": {},
     "output_type": "execute_result"
    }
   ],
   "source": [
    "coefficients.iloc[0]"
   ]
  },
  {
   "cell_type": "code",
   "execution_count": 31,
   "id": "08a2d9c6-615d-417b-b8a5-34fa4e4a70d9",
   "metadata": {},
   "outputs": [
    {
     "name": "stderr",
     "output_type": "stream",
     "text": [
      "C:\\Users\\sharo\\AppData\\Local\\Temp\\ipykernel_16272\\1481302370.py:1: FutureWarning: Series.__getitem__ treating keys as positions is deprecated. In a future version, integer keys will always be treated as labels (consistent with DataFrame behavior). To access a value by position, use `ser.iloc[pos]`\n",
      "  f\"y = {round(coefficients[0], 2)}\"\n"
     ]
    },
    {
     "data": {
      "text/plain": [
       "'y = 15.84'"
      ]
     },
     "execution_count": 31,
     "metadata": {},
     "output_type": "execute_result"
    }
   ],
   "source": [
    "f\"y = {round(coefficients[0], 2)}\""
   ]
  },
  {
   "cell_type": "code",
   "execution_count": 32,
   "id": "f7a4b7e9-8ea6-43ef-a4d4-dcb7af2b7f43",
   "metadata": {},
   "outputs": [
    {
     "name": "stdout",
     "output_type": "stream",
     "text": [
      "3662.65\n",
      "50\n",
      "59.0\n",
      "1.0\n",
      "8.0\n",
      "30.942394\n"
     ]
    }
   ],
   "source": [
    "print(subset_data['MPCE_MRP'].head(1).values[0])\n",
    "print(subset_data['Age'].head(1).values[0])\n",
    "print(subset_data['Meals_At_Home'].head(1).values[0])\n",
    "print(subset_data['Possess_ration_card'].head(1).values[0])\n",
    "print(subset_data['Education'].head(1).values[0])\n",
    "print(subset_data['foodtotal_q'].head(1).values[0])"
   ]
  },
  {
   "cell_type": "markdown",
   "id": "d8f0d574-6213-4e16-8d49-297ad66b8be7",
   "metadata": {},
   "source": [
    "**b1)ipl data analysis**"
   ]
  },
  {
   "cell_type": "code",
   "execution_count": 33,
   "id": "466993e5-817b-4e94-9ced-663ed08c9f27",
   "metadata": {},
   "outputs": [
    {
     "name": "stderr",
     "output_type": "stream",
     "text": [
      "C:\\Users\\sharo\\AppData\\Local\\Temp\\ipykernel_16272\\908056773.py:30: DtypeWarning: Columns (2) have mixed types. Specify dtype option on import or set low_memory=False.\n",
      "  ball_by_ball_df = pd.read_csv(csv_path)\n"
     ]
    },
    {
     "data": {
      "text/plain": [
       "('output_striker.csv', 'output_bowler.csv')"
      ]
     },
     "execution_count": 33,
     "metadata": {},
     "output_type": "execute_result"
    }
   ],
   "source": [
    "import pandas as pd\n",
    "\n",
    "\n",
    "def lcs_score(s1, s2):\n",
    "    n, m = len(s1), len(s2)\n",
    "    if n == 0 or m == 0:\n",
    "        return 0.0\n",
    "\n",
    "    \n",
    "    dp = [[0] * (m + 1) for _ in range(n + 1)]\n",
    "    for i in range(1, n + 1):\n",
    "        for j in range(1, m + 1):\n",
    "            if s1[i - 1] == s2[j - 1]:\n",
    "                dp[i][j] = dp[i - 1][j - 1] + 1\n",
    "            else:\n",
    "                dp[i][j] = max(dp[i - 1][j], dp[i][j - 1])\n",
    "\n",
    "    lcs_length = dp[n][m]\n",
    "\n",
    "    \n",
    "    average_length = (n + m) / 2.0\n",
    "    score = lcs_length / average_length\n",
    "\n",
    "    return score\n",
    "\n",
    "\n",
    "csv_path = \"C:\\\\vcu extra\\\\assignment\\\\data\\\\IPL_ball_by_ball_updated till 2024.csv\"\n",
    "excel_path = \"C:\\\\vcu extra\\\\assignment\\\\data\\\\IPL SALARIES 2024.xlsx\"\n",
    "\n",
    "ball_by_ball_df = pd.read_csv(csv_path)\n",
    "salaries_df = pd.read_excel(excel_path)\n",
    "\n",
    "\n",
    "player_runs1 = ball_by_ball_df.groupby('Striker')['runs_scored'].sum().to_dict()\n",
    "striker_names = ball_by_ball_df['Striker'].unique()\n",
    "player_names = salaries_df['Player'].unique()\n",
    "\n",
    "striker_matches = []\n",
    "\n",
    "for striker in striker_names:\n",
    "    for player in player_names:\n",
    "        score = lcs_score(striker, player)\n",
    "        if score > 0.80:\n",
    "            actual_player_name = max(player_runs1.keys(), key=lambda k: lcs_score(player, k))\n",
    "            runs_scored = player_runs1.get(actual_player_name, 0)\n",
    "            striker_matches.append({'Striker': striker, 'Player': player, 'Score': score, 'Runs_Scored': runs_scored})\n",
    "\n",
    "striker_matches_df = pd.DataFrame(striker_matches)\n",
    "striker_output_path = 'output_striker.csv'\n",
    "striker_matches_df.to_csv(striker_output_path, index=False)\n",
    "\n",
    "\n",
    "player_wickets1 = ball_by_ball_df.groupby('Bowler')['wicket_confirmation'].sum().to_dict()\n",
    "bowler_names = ball_by_ball_df['Bowler'].unique()\n",
    "\n",
    "bowler_matches = []\n",
    "\n",
    "for bowler in bowler_names:\n",
    "    for player in player_names:\n",
    "        score = lcs_score(bowler, player)\n",
    "        if score > 0.80:\n",
    "            actual_player_name = max(player_wickets1.keys(), key=lambda k: lcs_score(player, k))\n",
    "            wickets_confirmation = player_wickets1.get(actual_player_name, 0)\n",
    "            bowler_matches.append({'Bowler': bowler, 'Player': player, 'Score': score, 'Wicket_Confirmation': wickets_confirmation})\n",
    "\n",
    "bowler_matches_df = pd.DataFrame(bowler_matches)\n",
    "bowler_output_path = 'output_bowler.csv'\n",
    "bowler_matches_df.to_csv(bowler_output_path, index=False)\n",
    "\n",
    "striker_output_path, bowler_output_path"
   ]
  },
  {
   "cell_type": "code",
   "execution_count": 34,
   "id": "00be3c3d-c677-4f2a-b098-c99d0bace191",
   "metadata": {},
   "outputs": [
    {
     "name": "stdout",
     "output_type": "stream",
     "text": [
      "Updated output_striker.csv with Points Scored for strikers.\n",
      "Updated output_bowler.csv with Points Scored for bowlers.\n"
     ]
    }
   ],
   "source": [
    "import pandas as pd\n",
    "\n",
    "def calculate_striker_points(input_file: str, output_file: str):\n",
    "   \n",
    "    df_striker = pd.read_csv(input_file)\n",
    "    \n",
    "  \n",
    "    df_striker['Points Scored'] = df_striker['Runs_Scored']\n",
    "    \n",
    "\n",
    "    df_striker.to_csv(output_file, index=False)\n",
    "    print(f\"Updated {output_file} with Points Scored for strikers.\")\n",
    "\n",
    "def calculate_bowler_points(input_file: str, output_file: str):\n",
    "   \n",
    "    df_bowler = pd.read_csv(input_file)\n",
    "    \n",
    "  \n",
    "    df_bowler['Points Scored'] = df_bowler['Wicket_Confirmation'] * 25\n",
    "    \n",
    "   \n",
    "    df_bowler.to_csv(output_file, index=False)\n",
    "    print(f\"Updated {output_file} with Points Scored for bowlers.\")\n",
    "\n",
    "\n",
    "calculate_striker_points('output_striker.csv', 'output_striker.csv')\n",
    "calculate_bowler_points('output_bowler.csv', 'output_bowler.csv')"
   ]
  },
  {
   "cell_type": "code",
   "execution_count": 35,
   "id": "72d55521-ed8a-4b36-a34e-7b044c647346",
   "metadata": {},
   "outputs": [
    {
     "name": "stdout",
     "output_type": "stream",
     "text": [
      "Renamed 'Points Scored' column to 'Points for Batsman' in 'output_striker.csv'.\n"
     ]
    }
   ],
   "source": [
    "import pandas as pd\n",
    "\n",
    "\n",
    "file_path = 'output_striker.csv'\n",
    "df = pd.read_csv(file_path)\n",
    "\n",
    "\n",
    "df.rename(columns={'Points Scored': 'Points for Batsman'}, inplace=True)\n",
    "\n",
    "\n",
    "df.to_csv(file_path, index=False)\n",
    "\n",
    "print(f\"Renamed 'Points Scored' column to 'Points for Batsman' in '{file_path}'.\")"
   ]
  },
  {
   "cell_type": "code",
   "execution_count": 36,
   "id": "5640ee9a-7cbc-44ca-9453-7025c3c1b71a",
   "metadata": {},
   "outputs": [
    {
     "name": "stdout",
     "output_type": "stream",
     "text": [
      "Renamed 'Points Scored' column to 'Points for Bowler' in 'output_bowler.csv'.\n"
     ]
    }
   ],
   "source": [
    "import pandas as pd\n",
    "\n",
    "\n",
    "file_path = 'output_bowler.csv'\n",
    "df = pd.read_csv(file_path)\n",
    "\n",
    "\n",
    "df.rename(columns={'Points Scored': 'Points for Bowler'}, inplace=True)\n",
    "\n",
    "\n",
    "df.to_csv(file_path, index=False)\n",
    "\n",
    "print(f\"Renamed 'Points Scored' column to 'Points for Bowler' in '{file_path}'.\")"
   ]
  },
  {
   "cell_type": "code",
   "execution_count": 37,
   "id": "2c39b363-09e2-4a30-83f9-e80e22f5401a",
   "metadata": {},
   "outputs": [
    {
     "name": "stdout",
     "output_type": "stream",
     "text": [
      "Match found, points for Abdul Samad = 595.0\n",
      "No match found, total points for Abhishek Porel = 235.0\n",
      "Match found, points for Abhishek Sharma = 1421.0\n",
      "Match found, points for Adam Zampa = 765.0\n",
      "Match found, points for Akash Deep = 219.0\n",
      "Match found, points for Akash Madhwal = 554.0\n",
      "Match found, points for Amit Mishra = 4956.0\n",
      "Match found, points for Anmolpreet Singh = 659.0\n",
      "Match found, points for Anmolpreet Singh = 659.0\n",
      "No match found, total points for Anuj Rawat = 318.0\n",
      "Match found, points for Arjun Tendulkar = 113.0\n",
      "Match found, points for Arshdeep Singh = 1975.0\n",
      "No match found, total points for Atharva Taide = 201.0\n",
      "Match found, points for Avesh Khan (T) = 1756.0\n",
      "No match found, total points for B. Sai Sudharsan = 925.0\n",
      "No match found, total points for Dhruv Jurel = 254.0\n",
      "No match found, total points for Faf Du Plessis = 4421.0\n",
      "Match found, points for Fazalhaq Farooqi = 153.0\n",
      "Match found, points for Harpreet  Brar = 816.0\n",
      "Match found, points for Harshit Rana = 452.0\n",
      "No match found, total points for Ishan Kishan = 2568.0\n",
      "Match found, points for Jason Behrendorff = 556.0\n",
      "No match found, total points for Jos Buttler = 3543.0\n",
      "Match found, points for K. Gowtham = 797.0\n",
      "No match found, total points for KL Rahul = 4575.0\n",
      "No match found, total points for Kane Williamson = 2132.0\n",
      "Match found, points for Kuldeep Yadav = 2322.0\n",
      "Match found, points for Lalit Yadav = 580.0\n",
      "Match found, points for Liam Livingstone = 1214.0\n",
      "No match found, total points for MS Dhoni = 5192.0\n",
      "No match found, total points for Mayank Dagar (T) = 50.0\n",
      "Match found, points for Mohammad Shami = 3674.0\n",
      "Match found, points for Mohammad Shami = 3674.0\n",
      "Match found, points for Mohammad Shami = 3674.0\n",
      "Match found, points for Mohammad Shami = 3674.0\n",
      "Match found, points for Mohammed Siraj = 2284.0\n",
      "Match found, points for Mohsin Khan = 675.0\n",
      "Match found, points for Mukesh Choudhary = 406.0\n",
      "Match found, points for Mukesh Kumar = 607.0\n",
      "Match found, points for Navdeep Saini = 683.0\n",
      "No match found, total points for Nehal Wadhera = 340.0\n",
      "Match found, points for Nitish Kumar Reddy = 218.0\n",
      "Match found, points for Noor Ahmad = 563.0\n",
      "Match found, points for Prasidh Krishna = 1359.0\n",
      "Match found, points for R. Ashwin = 5542.0\n",
      "Match found, points for R. Ashwin = 5542.0\n",
      "Match found, points for R. Ashwin = 5542.0\n",
      "Match found, points for R. Ashwin = 5542.0\n",
      "Match found, points for R. Sai Kishore = 338.0\n",
      "No match found, total points for Rahmanullah Gurbaz = 227.0\n",
      "Match found, points for Rahul Tewatia = 1878.0\n",
      "Match found, points for Rashid Khan = 4402.0\n",
      "Match found, points for Ravi Bishnoi = 1628.0\n",
      "Match found, points for Ravi Bishnoi = 1628.0\n",
      "Match found, points for Sam Curran = 2241.0\n",
      "Match found, points for Sandeep Sharma = 3704.0\n",
      "No match found, total points for Sanvir  Singh = 11.0\n",
      "No match found, total points for Shubman Gill = 3110.0\n",
      "Match found, points for Sikandar Raza = 257.0\n",
      "Match found, points for Simarjeet Singh = 107.0\n",
      "Match found, points for T. Natarajan = 1728.0\n",
      "No match found, total points for Tilak Varma = 1083.0\n",
      "No match found, total points for Tim David = 635.0\n",
      "Match found, points for Umran Malik = 798.0\n",
      "Match found, points for Vijay Shankar = 1405.0\n",
      "No match found, total points for Vishnu Vinod = 56.0\n",
      "Match found, points for Washington Sundar = 1353.0\n",
      "No match found, total points for Yash Thakur = 650.0\n"
     ]
    },
    {
     "name": "stderr",
     "output_type": "stream",
     "text": [
      "C:\\Users\\sharo\\AppData\\Local\\Temp\\ipykernel_16272\\3454125916.py:11: FutureWarning: A value is trying to be set on a copy of a DataFrame or Series through chained assignment using an inplace method.\n",
      "The behavior will change in pandas 3.0. This inplace method will never work because the intermediate object on which we are setting values always behaves as a copy.\n",
      "\n",
      "For example, when doing 'df[col].method(value, inplace=True)', try using 'df.method({col: value}, inplace=True)' or df[col] = df[col].method(value) instead, to perform the operation inplace on the original object.\n",
      "\n",
      "\n",
      "  combined_df['Points for Batsman'].fillna(0, inplace=True)\n",
      "C:\\Users\\sharo\\AppData\\Local\\Temp\\ipykernel_16272\\3454125916.py:12: FutureWarning: A value is trying to be set on a copy of a DataFrame or Series through chained assignment using an inplace method.\n",
      "The behavior will change in pandas 3.0. This inplace method will never work because the intermediate object on which we are setting values always behaves as a copy.\n",
      "\n",
      "For example, when doing 'df[col].method(value, inplace=True)', try using 'df.method({col: value}, inplace=True)' or df[col] = df[col].method(value) instead, to perform the operation inplace on the original object.\n",
      "\n",
      "\n",
      "  combined_df['Points for Bowler'].fillna(0, inplace=True)\n"
     ]
    }
   ],
   "source": [
    "import pandas as pd\n",
    "\n",
    "\n",
    "striker_df = pd.read_csv('output_striker.csv')\n",
    "bowler_df = pd.read_csv('output_bowler.csv')\n",
    "\n",
    "\n",
    "combined_df = pd.merge(striker_df, bowler_df, on='Player', how='outer', suffixes=('_Batsman', '_Bowler'))\n",
    "\n",
    "\n",
    "combined_df['Points for Batsman'].fillna(0, inplace=True)\n",
    "combined_df['Points for Bowler'].fillna(0, inplace=True)\n",
    "\n",
    "\n",
    "for index, row in combined_df.iterrows():\n",
    "    if pd.notna(row['Points for Batsman']) and pd.notna(row['Points for Bowler']):\n",
    "        total_points = row['Points for Batsman'] + row['Points for Bowler']\n",
    "        if row['Points for Batsman'] > 0 and row['Points for Bowler'] > 0:\n",
    "            print(f\"Match found, points for {row['Player']} = {total_points}\")\n",
    "        else:\n",
    "            print(f\"No match found, total points for {row['Player']} = {total_points}\")\n",
    "    else:\n",
    "        total_points = row['Points for Batsman'] + row['Points_Bowler']\n",
    "        print(f\"No match found, total points for {row['Player']} = {total_points}\")\n",
    "\n",
    "\n",
    "combined_df['Total_Points'] = combined_df['Points for Batsman'] + combined_df['Points for Bowler']\n",
    "combined_df.to_csv('combined_output.csv', index=False)"
   ]
  },
  {
   "cell_type": "code",
   "execution_count": 38,
   "id": "bd758233-02e1-40be-ad17-16723ff3103a",
   "metadata": {},
   "outputs": [
    {
     "name": "stdout",
     "output_type": "stream",
     "text": [
      "Player Abdul Samad matched with a salary of Rs 400\n",
      "Player Abhishek Porel matched with a salary of Rs 20\n",
      "Player Abhishek Sharma matched with a salary of Rs 650\n",
      "Player Adam Zampa matched with a salary of Rs 150\n",
      "Player Akash Deep matched with a salary of Rs 20\n",
      "Player Akash Madhwal matched with a salary of Rs 20\n",
      "Player Amit Mishra matched with a salary of Rs 50\n",
      "Player Anmolpreet Singh matched with a salary of Rs 20\n",
      "Player Anmolpreet Singh matched with a salary of Rs 20\n",
      "Player Anuj Rawat matched with a salary of Rs 340\n",
      "Player Arjun Tendulkar matched with a salary of Rs 30\n",
      "Player Arshdeep Singh matched with a salary of Rs 400\n",
      "Player Atharva Taide matched with a salary of Rs 20\n",
      "Player Avesh Khan (T) matched with a salary of Rs 1000\n",
      "Player B. Sai Sudharsan matched with a salary of Rs 20\n",
      "Player Dhruv Jurel matched with a salary of Rs 20\n",
      "Player Faf Du Plessis matched with a salary of Rs 700\n",
      "Player Fazalhaq Farooqi matched with a salary of Rs 50\n",
      "Player Harpreet  Brar matched with a salary of Rs 380\n",
      "Player Harshit Rana matched with a salary of Rs 20\n",
      "Player Ishan Kishan matched with a salary of Rs 1525\n",
      "Player Jason Behrendorff matched with a salary of Rs 50\n",
      "Player Jos Buttler matched with a salary of Rs 1000\n",
      "Player K. Gowtham matched with a salary of Rs 90\n",
      "Player KL Rahul matched with a salary of Rs 1700\n",
      "Player Kane Williamson matched with a salary of Rs 200\n",
      "Player Kuldeep Yadav matched with a salary of Rs 200\n",
      "Player Lalit Yadav matched with a salary of Rs 65\n",
      "Player Liam Livingstone matched with a salary of Rs 1150\n",
      "Player MS Dhoni matched with a salary of Rs 1200\n",
      "Player Mayank Dagar (T) matched with a salary of Rs 180\n",
      "Player Mohammad Shami matched with a salary of Rs 625\n",
      "Player Mohammad Shami matched with a salary of Rs 625\n",
      "Player Mohammad Shami matched with a salary of Rs 625\n",
      "Player Mohammad Shami matched with a salary of Rs 625\n",
      "Player Mohammed Siraj matched with a salary of Rs 700\n",
      "Player Mohsin Khan matched with a salary of Rs 20\n",
      "Player Mukesh Choudhary matched with a salary of Rs 20\n",
      "Player Mukesh Kumar matched with a salary of Rs 550\n",
      "Player Navdeep Saini matched with a salary of Rs 260\n",
      "Player Nehal Wadhera matched with a salary of Rs 20\n",
      "Player Nitish Kumar Reddy matched with a salary of Rs 20\n",
      "Player Noor Ahmad matched with a salary of Rs 30\n",
      "Player Prasidh Krishna matched with a salary of Rs 1000\n",
      "Player R. Ashwin matched with a salary of Rs 500\n",
      "Player R. Ashwin matched with a salary of Rs 500\n",
      "Player R. Ashwin matched with a salary of Rs 500\n",
      "Player R. Ashwin matched with a salary of Rs 500\n",
      "Player R. Sai Kishore matched with a salary of Rs 300\n",
      "Player Rahmanullah Gurbaz matched with a salary of Rs 50\n",
      "Player Rahul Tewatia matched with a salary of Rs 900\n",
      "Player Rashid Khan matched with a salary of Rs 1500\n",
      "Player Ravi Bishnoi matched with a salary of Rs 400\n",
      "Player Ravi Bishnoi matched with a salary of Rs 400\n",
      "Player Sam Curran matched with a salary of Rs 1850\n",
      "Player Sandeep Sharma matched with a salary of Rs 50\n",
      "Player Sanvir  Singh matched with a salary of Rs 20\n",
      "Player Shubman Gill matched with a salary of Rs 700\n",
      "Player Sikandar Raza matched with a salary of Rs 50\n",
      "Player Simarjeet Singh matched with a salary of Rs 20\n",
      "Player T. Natarajan matched with a salary of Rs 320\n",
      "Player Tilak Varma matched with a salary of Rs 170\n",
      "Player Tim David matched with a salary of Rs 850\n",
      "Player Umran Malik matched with a salary of Rs 400\n",
      "Player Vijay Shankar matched with a salary of Rs 140\n",
      "Player Vishnu Vinod matched with a salary of Rs 20\n",
      "Player Washington Sundar matched with a salary of Rs 875\n",
      "Player Yash Thakur matched with a salary of Rs 45\n"
     ]
    }
   ],
   "source": [
    "import pandas as pd\n",
    "\n",
    "\n",
    "combined_output = pd.read_csv('combined_output.csv')\n",
    "\n",
    "\n",
    "ipl_salaries = pd.read_excel(\"C:\\\\vcu extra\\\\assignment\\\\data\\\\IPL SALARIES 2024.xlsx\")\n",
    "\n",
    "\n",
    "player_salaries = ipl_salaries[['Player', 'Rs']]\n",
    "\n",
    "\n",
    "salary_dict = dict(zip(player_salaries['Player'], player_salaries['Rs']))\n",
    "\n",
    "\n",
    "combined_output['salary'] = float('nan')\n",
    "\n",
    "\n",
    "for index, row in combined_output.iterrows():\n",
    "    player_name = row['Player']\n",
    "    if player_name in salary_dict:\n",
    "        combined_output.at[index, 'salary'] = salary_dict[player_name]\n",
    "        print(f\"Player {player_name} matched with a salary of Rs {salary_dict[player_name]}\")\n",
    "\n",
    "\n",
    "combined_output.to_csv('combined_output_with_salaries.csv', index=False)"
   ]
  },
  {
   "cell_type": "code",
   "execution_count": 39,
   "id": "8df7f8c0-cae6-4f0d-8377-c5b3ec586fe1",
   "metadata": {},
   "outputs": [
    {
     "name": "stdout",
     "output_type": "stream",
     "text": [
      "Filtered data saved to combined_output_with_salaries - Copy.csv\n"
     ]
    }
   ],
   "source": [
    "import pandas as pd\n",
    "\n",
    "\n",
    "input_file = 'combined_output_with_salaries.csv'\n",
    "output_file = 'combined_output_with_salaries - Copy.csv'\n",
    "\n",
    "\n",
    "columns_to_keep = ['Player', 'Total_Points', 'salary']\n",
    "\n",
    "\n",
    "df = pd.read_csv(input_file)\n",
    "\n",
    "\n",
    "df_filtered = df[columns_to_keep]\n",
    "\n",
    "\n",
    "df_filtered.to_csv(output_file, index=False)\n",
    "\n",
    "print(f\"Filtered data saved to {output_file}\")"
   ]
  },
  {
   "cell_type": "code",
   "execution_count": 40,
   "id": "7069b02d-70bf-47c7-9af2-1559f765f313",
   "metadata": {
    "scrolled": true
   },
   "outputs": [
    {
     "name": "stdout",
     "output_type": "stream",
     "text": [
      "Mean Squared Error: 116443.14227554195\n",
      "R^2 Score: -0.12047562146243651\n",
      "Adjusted R^2 Score: -0.21384858991763944\n",
      "Coefficients: [0.16274853]\n",
      "Intercept: 157.11291112341002\n"
     ]
    },
    {
     "data": {
      "image/png": "[encoded data removed]",
      "text/plain": [
       "<Figure size 640x480 with 1 Axes>"
      ]
     },
     "metadata": {},
     "output_type": "display_data"
    }
   ],
   "source": [
    "import pandas as pd\n",
    "import numpy as np\n",
    "from sklearn.model_selection import train_test_split\n",
    "from sklearn.linear_model import LinearRegression\n",
    "from sklearn.metrics import mean_squared_error, r2_score\n",
    "import matplotlib.pyplot as plt\n",
    "\n",
    "\n",
    "file_path = 'combined_output_with_salaries - Copy.csv'\n",
    "data = pd.read_csv(file_path)\n",
    "\n",
    "\n",
    "y = data['salary'] \n",
    "X = data[['Total_Points']] \n",
    "\n",
    "\n",
    "X_train, X_test, y_train, y_test = train_test_split(X, y, test_size=0.2, random_state=42)\n",
    "\n",
    "\n",
    "model = LinearRegression()\n",
    "\n",
    "\n",
    "model.fit(X_train, y_train)\n",
    "\n",
    "\n",
    "y_pred = model.predict(X_test)\n",
    "\n",
    "\n",
    "mse = mean_squared_error(y_test, y_pred)\n",
    "r2 = r2_score(y_test, y_pred)\n",
    "\n",
    "\n",
    "n = len(y_test)\n",
    "p = X_test.shape[1]\n",
    "adjusted_r2 = 1 - (1 - r2) * (n - 1) / (n - p - 1)\n",
    "\n",
    "\n",
    "print(f'Mean Squared Error: {mse}')\n",
    "print(f'R^2 Score: {r2}')\n",
    "print(f'Adjusted R^2 Score: {adjusted_r2}')\n",
    "print(f'Coefficients: {model.coef_}')\n",
    "print(f'Intercept: {model.intercept_}')\n",
    "\n",
    "\n",
    "plt.scatter(X_test, y_test, color='black', label='Actual')\n",
    "plt.plot(X_test, y_pred, color='blue', linewidth=3, label='Predicted')\n",
    "plt.xlabel('Salary')\n",
    "plt.ylabel('Total Points')\n",
    "plt.title('Linear Regression: Total Points vs Salary')\n",
    "plt.legend()\n",
    "plt.show()"
   ]
  },
  {
   "cell_type": "markdown",
   "id": "93fa584b-8584-4a17-8840-5e921e05e276",
   "metadata": {},
   "source": [
    "#b2 ipl data analysis last 3 years"
   ]
  },
  {
   "cell_type": "code",
   "execution_count": 41,
   "id": "bc184e16-dbfb-4f4b-9530-820f110b0ba3",
   "metadata": {},
   "outputs": [
    {
     "data": {
      "text/html": [
       "<div>\n",
       "<style scoped>\n",
       "    .dataframe tbody tr th:only-of-type {\n",
       "        vertical-align: middle;\n",
       "    }\n",
       "\n",
       "    .dataframe tbody tr th {\n",
       "        vertical-align: top;\n",
       "    }\n",
       "\n",
       "    .dataframe thead th {\n",
       "        text-align: right;\n",
       "    }\n",
       "</style>\n",
       "<table border=\"1\" class=\"dataframe\">\n",
       "  <thead>\n",
       "    <tr style=\"text-align: right;\">\n",
       "      <th></th>\n",
       "      <th>Season</th>\n",
       "      <th>Striker</th>\n",
       "      <th>runs_scored</th>\n",
       "    </tr>\n",
       "  </thead>\n",
       "  <tbody>\n",
       "    <tr>\n",
       "      <th>2423</th>\n",
       "      <td>2023</td>\n",
       "      <td>Shubman Gill</td>\n",
       "      <td>890</td>\n",
       "    </tr>\n",
       "    <tr>\n",
       "      <th>2144</th>\n",
       "      <td>2022</td>\n",
       "      <td>JC Buttler</td>\n",
       "      <td>863</td>\n",
       "    </tr>\n",
       "    <tr>\n",
       "      <th>2313</th>\n",
       "      <td>2023</td>\n",
       "      <td>F du Plessis</td>\n",
       "      <td>730</td>\n",
       "    </tr>\n",
       "    <tr>\n",
       "      <th>2311</th>\n",
       "      <td>2023</td>\n",
       "      <td>DP Conway</td>\n",
       "      <td>672</td>\n",
       "    </tr>\n",
       "    <tr>\n",
       "      <th>2433</th>\n",
       "      <td>2023</td>\n",
       "      <td>V Kohli</td>\n",
       "      <td>639</td>\n",
       "    </tr>\n",
       "    <tr>\n",
       "      <th>...</th>\n",
       "      <td>...</td>\n",
       "      <td>...</td>\n",
       "      <td>...</td>\n",
       "    </tr>\n",
       "    <tr>\n",
       "      <th>2583</th>\n",
       "      <td>2024</td>\n",
       "      <td>TA Boult</td>\n",
       "      <td>0</td>\n",
       "    </tr>\n",
       "    <tr>\n",
       "      <th>2527</th>\n",
       "      <td>2024</td>\n",
       "      <td>Mukesh Kumar</td>\n",
       "      <td>0</td>\n",
       "    </tr>\n",
       "    <tr>\n",
       "      <th>2462</th>\n",
       "      <td>2024</td>\n",
       "      <td>Anmolpreet Singh</td>\n",
       "      <td>0</td>\n",
       "    </tr>\n",
       "    <tr>\n",
       "      <th>2560</th>\n",
       "      <td>2024</td>\n",
       "      <td>Ravi Bishnoi</td>\n",
       "      <td>0</td>\n",
       "    </tr>\n",
       "    <tr>\n",
       "      <th>2268</th>\n",
       "      <td>2022</td>\n",
       "      <td>Yash Dayal</td>\n",
       "      <td>0</td>\n",
       "    </tr>\n",
       "  </tbody>\n",
       "</table>\n",
       "<p>503 rows × 3 columns</p>\n",
       "</div>"
      ],
      "text/plain": [
       "     Season           Striker  runs_scored\n",
       "2423   2023      Shubman Gill          890\n",
       "2144   2022        JC Buttler          863\n",
       "2313   2023      F du Plessis          730\n",
       "2311   2023         DP Conway          672\n",
       "2433   2023           V Kohli          639\n",
       "...     ...               ...          ...\n",
       "2583   2024          TA Boult            0\n",
       "2527   2024      Mukesh Kumar            0\n",
       "2462   2024  Anmolpreet Singh            0\n",
       "2560   2024      Ravi Bishnoi            0\n",
       "2268   2022        Yash Dayal            0\n",
       "\n",
       "[503 rows x 3 columns]"
      ]
     },
     "execution_count": 41,
     "metadata": {},
     "output_type": "execute_result"
    }
   ],
   "source": [
    "player_runs_2024 = player_runs[player_runs['Season']=='2024'].sort_values(by='runs_scored',ascending=False)\n",
    "player_runs_2023 = player_runs[player_runs['Season']=='2023'].sort_values(by='runs_scored',ascending=False)\n",
    "player_runs_2022 = player_runs[player_runs['Season']=='2022'].sort_values(by='runs_scored',ascending=False)\n",
    "\n",
    "player_runs_last_three_seasons = pd.concat([player_runs_2024, player_runs_2023, player_runs_2022])\n",
    "player_runs_last_three_seasons.sort_values(by='runs_scored',ascending=False)"
   ]
  },
  {
   "cell_type": "code",
   "execution_count": 42,
   "id": "ba59684e-70c2-44b0-9b41-c565fc1715cc",
   "metadata": {},
   "outputs": [
    {
     "data": {
      "text/html": [
       "<div>\n",
       "<style scoped>\n",
       "    .dataframe tbody tr th:only-of-type {\n",
       "        vertical-align: middle;\n",
       "    }\n",
       "\n",
       "    .dataframe tbody tr th {\n",
       "        vertical-align: top;\n",
       "    }\n",
       "\n",
       "    .dataframe thead th {\n",
       "        text-align: right;\n",
       "    }\n",
       "</style>\n",
       "<table border=\"1\" class=\"dataframe\">\n",
       "  <thead>\n",
       "    <tr style=\"text-align: right;\">\n",
       "      <th></th>\n",
       "      <th>Season</th>\n",
       "      <th>Bowler</th>\n",
       "      <th>wicket_confirmation</th>\n",
       "    </tr>\n",
       "  </thead>\n",
       "  <tbody>\n",
       "    <tr>\n",
       "      <th>1750</th>\n",
       "      <td>2023</td>\n",
       "      <td>MM Sharma</td>\n",
       "      <td>31</td>\n",
       "    </tr>\n",
       "    <tr>\n",
       "      <th>1671</th>\n",
       "      <td>2022</td>\n",
       "      <td>YS Chahal</td>\n",
       "      <td>29</td>\n",
       "    </tr>\n",
       "    <tr>\n",
       "      <th>1755</th>\n",
       "      <td>2023</td>\n",
       "      <td>Mohammed Shami</td>\n",
       "      <td>28</td>\n",
       "    </tr>\n",
       "    <tr>\n",
       "      <th>1782</th>\n",
       "      <td>2023</td>\n",
       "      <td>Rashid Khan</td>\n",
       "      <td>28</td>\n",
       "    </tr>\n",
       "    <tr>\n",
       "      <th>1629</th>\n",
       "      <td>2022</td>\n",
       "      <td>PWH de Silva</td>\n",
       "      <td>27</td>\n",
       "    </tr>\n",
       "    <tr>\n",
       "      <th>...</th>\n",
       "      <td>...</td>\n",
       "      <td>...</td>\n",
       "      <td>...</td>\n",
       "    </tr>\n",
       "    <tr>\n",
       "      <th>1901</th>\n",
       "      <td>2024</td>\n",
       "      <td>S Joseph</td>\n",
       "      <td>0</td>\n",
       "    </tr>\n",
       "    <tr>\n",
       "      <th>1874</th>\n",
       "      <td>2024</td>\n",
       "      <td>Mukesh Choudhary</td>\n",
       "      <td>0</td>\n",
       "    </tr>\n",
       "    <tr>\n",
       "      <th>1879</th>\n",
       "      <td>2024</td>\n",
       "      <td>Naman Dhir</td>\n",
       "      <td>0</td>\n",
       "    </tr>\n",
       "    <tr>\n",
       "      <th>1895</th>\n",
       "      <td>2024</td>\n",
       "      <td>Ramandeep Singh</td>\n",
       "      <td>0</td>\n",
       "    </tr>\n",
       "    <tr>\n",
       "      <th>1610</th>\n",
       "      <td>2022</td>\n",
       "      <td>MK Lomror</td>\n",
       "      <td>0</td>\n",
       "    </tr>\n",
       "  </tbody>\n",
       "</table>\n",
       "<p>381 rows × 3 columns</p>\n",
       "</div>"
      ],
      "text/plain": [
       "     Season            Bowler  wicket_confirmation\n",
       "1750   2023         MM Sharma                   31\n",
       "1671   2022         YS Chahal                   29\n",
       "1755   2023    Mohammed Shami                   28\n",
       "1782   2023       Rashid Khan                   28\n",
       "1629   2022      PWH de Silva                   27\n",
       "...     ...               ...                  ...\n",
       "1901   2024          S Joseph                    0\n",
       "1874   2024  Mukesh Choudhary                    0\n",
       "1879   2024        Naman Dhir                    0\n",
       "1895   2024   Ramandeep Singh                    0\n",
       "1610   2022         MK Lomror                    0\n",
       "\n",
       "[381 rows x 3 columns]"
      ]
     },
     "execution_count": 42,
     "metadata": {},
     "output_type": "execute_result"
    }
   ],
   "source": [
    "player_wickets_2024 = player_wickets[player_wickets['Season']=='2024'].sort_values(by='wicket_confirmation',ascending=False)\n",
    "player_wickets_2023 = player_wickets[player_wickets['Season']=='2023'].sort_values(by='wicket_confirmation',ascending=False)\n",
    "player_wickets_2022 = player_wickets[player_wickets['Season']=='2022'].sort_values(by='wicket_confirmation',ascending=False)\n",
    "\n",
    "player_wickets_last_three_seasons = pd.concat([player_wickets_2024, player_wickets_2023, player_wickets_2022])\n",
    "player_wickets_last_three_seasons.sort_values(by='wicket_confirmation',ascending=False)"
   ]
  },
  {
   "cell_type": "code",
   "execution_count": 46,
   "id": "198bd66c-6745-48f7-b487-601f28d3a27a",
   "metadata": {},
   "outputs": [
    {
     "name": "stdout",
     "output_type": "stream",
     "text": [
      "DataFrame sorted and saved to 'sorted_player_wickets.csv'.\n",
      "DataFrame sorted and saved to 'sorted_player_runs.csv'.\n"
     ]
    }
   ],
   "source": [
    "\n",
    "import os\n",
    "import pandas as pd\n",
    "\n",
    "os.chdir(\"C:\\\\vcu extra\\\\assignment\\\\Python\")\n",
    "\n",
    "\n",
    "sorted_df = player_wickets_last_three_seasons.sort_values(by='wicket_confirmation', ascending=False)\n",
    "sorted_df1 = player_runs_last_three_seasons.sort_values(by='runs_scored', ascending=False)\n",
    "\n",
    "\n",
    "sorted_df.to_csv('sorted_player_wickets.csv', index=False)\n",
    "sorted_df1.to_csv('sorted_player_runs.csv', index=False)\n",
    "\n",
    "print(\"DataFrame sorted and saved to 'sorted_player_wickets.csv'.\")\n",
    "print(\"DataFrame sorted and saved to 'sorted_player_runs.csv'.\")"
   ]
  },
  {
   "cell_type": "code",
   "execution_count": 48,
   "id": "49baef93-1fe0-4d99-8b4d-c366f9a2b6a2",
   "metadata": {},
   "outputs": [
    {
     "name": "stdout",
     "output_type": "stream",
     "text": [
      "Aggregated bowler data saved to 'aggregated_player_wickets.csv'.\n",
      "Aggregated striker data saved to 'aggregated_player_runs.csv'.\n"
     ]
    }
   ],
   "source": [
    "import os\n",
    "import pandas as pd\n",
    "\n",
    "\n",
    "os.chdir(\"C:\\\\vcu extra\\\\assignment\\\\Python\")\n",
    "\n",
    "\n",
    "bowler_file_path = 'sorted_player_wickets.csv'  \n",
    "bowler_data = pd.read_csv(bowler_file_path)\n",
    "\n",
    "\n",
    "bowler_data.drop(columns=['Season'], inplace=True)\n",
    "\n",
    "\n",
    "aggregated_bowler_data = bowler_data.groupby('Bowler')['wicket_confirmation'].sum().reset_index()\n",
    "\n",
    "\n",
    "bowler_output_file_path = 'aggregated_player_wickets.csv'\n",
    "aggregated_bowler_data.to_csv(bowler_output_file_path, index=False)\n",
    "\n",
    "print(f\"Aggregated bowler data saved to '{bowler_output_file_path}'.\")\n",
    "\n",
    "\n",
    "striker_file_path = 'sorted_player_runs.csv' \n",
    "striker_data = pd.read_csv(striker_file_path)\n",
    "\n",
    "\n",
    "striker_data.drop(columns=['Season'], inplace=True)\n",
    "\n",
    "\n",
    "aggregated_striker_data = striker_data.groupby('Striker')['runs_scored'].sum().reset_index()\n",
    "\n",
    "\n",
    "striker_output_file_path = 'aggregated_player_runs.csv'\n",
    "aggregated_striker_data.to_csv(striker_output_file_path, index=False)\n",
    "\n",
    "print(f\"Aggregated striker data saved to '{striker_output_file_path}'.\")"
   ]
  },
  {
   "cell_type": "code",
   "execution_count": 51,
   "id": "4d1ea8a6-a011-4b74-b8b3-437284d45e49",
   "metadata": {},
   "outputs": [
    {
     "data": {
      "text/plain": [
       "('C:\\\\\\\\vcu extra\\\\\\\\assignment\\\\\\\\Python\\\\output_striker.csv',\n",
       " 'C:\\\\\\\\vcu extra\\\\\\\\assignment\\\\\\\\Python\\\\output_bowler.csv')"
      ]
     },
     "execution_count": 51,
     "metadata": {},
     "output_type": "execute_result"
    }
   ],
   "source": [
    "import os\n",
    "import pandas as pd\n",
    "\n",
    "\n",
    "def lcs_score(s1, s2):\n",
    "    n, m = len(s1), len(s2)\n",
    "    if n == 0 or m == 0:\n",
    "        return 0.0\n",
    "\n",
    "\n",
    "    dp = [[0] * (m + 1) for _ in range(n + 1)]\n",
    "    for i in range(1, n + 1):\n",
    "        for j in range(1, m + 1):\n",
    "            if s1[i - 1] == s2[j - 1]:\n",
    "                dp[i][j] = dp[i - 1][j - 1] + 1\n",
    "            else:\n",
    "                dp[i][j] = max(dp[i - 1][j], dp[i][j - 1])\n",
    "\n",
    "    lcs_length = dp[n][m]\n",
    "\n",
    "   \n",
    "    average_length = (n + m) / 2.0\n",
    "    score = lcs_length / average_length\n",
    "\n",
    "    return score\n",
    "\n",
    "\n",
    "csv_path = 'aggregated_player_runs.csv'\n",
    "excel_path = \"C:\\\\vcu extra\\\\assignment\\\\data\\\\IPL SALARIES 2024.xlsx\"\n",
    "\n",
    "ball_by_ball_df = pd.read_csv(csv_path)\n",
    "salaries_df = pd.read_excel(excel_path)\n",
    "\n",
    "\n",
    "player_runs1 = ball_by_ball_df.groupby('Striker')['runs_scored'].sum().to_dict()\n",
    "striker_names = ball_by_ball_df['Striker'].unique()\n",
    "player_names = salaries_df['Player'].unique()\n",
    "\n",
    "striker_matches = []\n",
    "\n",
    "for striker in striker_names:\n",
    "    for player in player_names:\n",
    "        score = lcs_score(striker, player)\n",
    "        if score > 0.80:\n",
    "            actual_player_name = max(player_runs1.keys(), key=lambda k: lcs_score(player, k))\n",
    "            runs_scored = player_runs1.get(actual_player_name, 0)\n",
    "            striker_matches.append({'Striker': striker, 'Player': player, 'Score': score, 'Runs_Scored': runs_scored})\n",
    "\n",
    "\n",
    "striker_matches_df = pd.DataFrame(striker_matches)\n",
    "striker_output_dir = r\"C:\\\\vcu extra\\\\assignment\\\\Python\"\n",
    "striker_output_path = os.path.join(striker_output_dir, 'output_striker.csv')\n",
    "striker_matches_df.to_csv(striker_output_path, index=False)\n",
    "\n",
    "\n",
    "csv_path1 = 'aggregated_player_wickets.csv'\n",
    "ball_by_ball_df1 = pd.read_csv(csv_path1)\n",
    "player_wickets1 = ball_by_ball_df1.groupby('Bowler')['wicket_confirmation'].sum().to_dict()\n",
    "bowler_names = ball_by_ball_df1['Bowler'].unique()\n",
    "\n",
    "bowler_matches = []\n",
    "\n",
    "for bowler in bowler_names:\n",
    "    for player in player_names:\n",
    "        score = lcs_score(bowler, player)\n",
    "        if score > 0.80:\n",
    "            actual_player_name = max(player_wickets1.keys(), key=lambda k: lcs_score(player, k))\n",
    "            wickets_confirmation = player_wickets1.get(actual_player_name, 0)\n",
    "            bowler_matches.append({'Bowler': bowler, 'Player': player, 'Score': score, 'Wicket_Confirmation': wickets_confirmation})\n",
    "\n",
    "\n",
    "bowler_matches_df = pd.DataFrame(bowler_matches)\n",
    "bowler_output_path = os.path.join(striker_output_dir, 'output_bowler.csv')\n",
    "bowler_matches_df.to_csv(bowler_output_path, index=False)\n",
    "\n",
    "striker_output_path, bowler_output_path"
   ]
  },
  {
   "cell_type": "code",
   "execution_count": 52,
   "id": "9098ac33-23e5-4d21-bbac-505eeae746c2",
   "metadata": {},
   "outputs": [
    {
     "name": "stdout",
     "output_type": "stream",
     "text": [
      "Updated output_striker.csv with Points Scored for strikers.\n",
      "Updated output_bowler.csv with Points Scored for bowlers.\n"
     ]
    }
   ],
   "source": [
    "import pandas as pd\n",
    "\n",
    "def calculate_striker_points(input_file: str, output_file: str):\n",
    "   \n",
    "    df_striker = pd.read_csv(input_file)\n",
    "    \n",
    "   \n",
    "    df_striker['Points Scored'] = df_striker['Runs_Scored']\n",
    "    \n",
    "   \n",
    "    df_striker.to_csv(output_file, index=False)\n",
    "    print(f\"Updated {output_file} with Points Scored for strikers.\")\n",
    "\n",
    "def calculate_bowler_points(input_file: str, output_file: str):\n",
    "  \n",
    "    df_bowler = pd.read_csv(input_file)\n",
    "    \n",
    "   \n",
    "    df_bowler['Points Scored'] = df_bowler['Wicket_Confirmation'] * 25\n",
    "    \n",
    "   \n",
    "    df_bowler.to_csv(output_file, index=False)\n",
    "    print(f\"Updated {output_file} with Points Scored for bowlers.\")\n",
    "\n",
    "\n",
    "calculate_striker_points('output_striker.csv', 'output_striker.csv')\n",
    "calculate_bowler_points('output_bowler.csv', 'output_bowler.csv')"
   ]
  },
  {
   "cell_type": "code",
   "execution_count": 57,
   "id": "7c818e48-2c3e-47ba-8469-6887e536bfac",
   "metadata": {},
   "outputs": [
    {
     "name": "stdout",
     "output_type": "stream",
     "text": [
      "Updated output_striker.csv with Points Scored for strikers.\n",
      "Updated output_bowler.csv with Points Scored for bowlers.\n"
     ]
    }
   ],
   "source": [
    "import os\n",
    "import pandas as pd\n",
    "\n",
    "def calculate_striker_points(input_file: str, output_file: str):\n",
    "   \n",
    "    os.chdir(\"C:\\\\vcu extra\\\\assignment\\\\Python\")\n",
    "    \n",
    "   \n",
    "    df_striker = pd.read_csv(input_file)\n",
    "    \n",
    " \n",
    "    df_striker['Points Scored'] = df_striker['Runs_Scored']\n",
    "    \n",
    "    \n",
    "    df_striker.to_csv(output_file, index=False)\n",
    "    print(f\"Updated {output_file} with Points Scored for strikers.\")\n",
    "\n",
    "def calculate_bowler_points(input_file: str, output_file: str):\n",
    "    \n",
    "    os.chdir(\"C:\\\\vcu extra\\\\assignment\\\\Python\")\n",
    "    \n",
    "    \n",
    "    df_bowler = pd.read_csv(input_file)\n",
    "    \n",
    "  \n",
    "    df_bowler['Points Scored'] = df_bowler['Wicket_Confirmation'] * 25\n",
    "    \n",
    "   \n",
    "    df_bowler.to_csv(output_file, index=False)\n",
    "    print(f\"Updated {output_file} with Points Scored for bowlers.\")\n",
    "\n",
    "\n",
    "calculate_striker_points('output_striker.csv', 'output_striker.csv')\n",
    "calculate_bowler_points('output_bowler.csv', 'output_bowler.csv')"
   ]
  },
  {
   "cell_type": "code",
   "execution_count": 58,
   "id": "9a9cc803-c24a-4352-a8d9-e2012764bc6f",
   "metadata": {},
   "outputs": [
    {
     "name": "stdout",
     "output_type": "stream",
     "text": [
      "Renamed 'Points Scored' column to 'Points for Batsman' in 'output_striker.csv'.\n"
     ]
    }
   ],
   "source": [
    "import pandas as pd\n",
    "\n",
    "\n",
    "file_path = 'output_striker.csv'\n",
    "df = pd.read_csv(file_path)\n",
    "\n",
    "\n",
    "df.rename(columns={'Points Scored': 'Points for Batsman'}, inplace=True)\n",
    "\n",
    "\n",
    "df.to_csv(file_path, index=False)\n",
    "\n",
    "print(f\"Renamed 'Points Scored' column to 'Points for Batsman' in '{file_path}'.\")"
   ]
  },
  {
   "cell_type": "code",
   "execution_count": 59,
   "id": "f179539b-7ff1-40eb-854f-b75e19e43b50",
   "metadata": {},
   "outputs": [
    {
     "name": "stdout",
     "output_type": "stream",
     "text": [
      "Renamed 'Points Scored' column to 'Points for Bowler' in 'output_bowler.csv'.\n"
     ]
    }
   ],
   "source": [
    "import pandas as pd\n",
    "\n",
    "\n",
    "file_path = 'output_bowler.csv'\n",
    "df = pd.read_csv(file_path)\n",
    "\n",
    "\n",
    "df.rename(columns={'Points Scored': 'Points for Bowler'}, inplace=True)\n",
    "\n",
    "\n",
    "df.to_csv(file_path, index=False)\n",
    "\n",
    "print(f\"Renamed 'Points Scored' column to 'Points for Bowler' in '{file_path}'.\")"
   ]
  },
  {
   "cell_type": "code",
   "execution_count": 60,
   "id": "b9c59695-2cea-41d5-897e-3542cf908fba",
   "metadata": {},
   "outputs": [
    {
     "name": "stdout",
     "output_type": "stream",
     "text": [
      "No match found, total points for Abdul Samad = 321.0\n",
      "No match found, total points for Abhishek Porel = 235.0\n",
      "Match found, points for Abhishek Sharma = 1005.0\n",
      "Match found, points for Adam Zampa = 235.0\n",
      "Match found, points for Akash Deep = 219.0\n",
      "Match found, points for Akash Madhwal = 554.0\n",
      "Match found, points for Amit Mishra = 219.0\n",
      "No match found, total points for Anmolpreet Singh = 118.0\n",
      "No match found, total points for Anuj Rawat = 318.0\n",
      "Match found, points for Arjun Tendulkar = 113.0\n",
      "Match found, points for Arshdeep Singh = 1123.0\n",
      "No match found, total points for Atharva Taide = 201.0\n",
      "Match found, points for Avesh Khan (T) = 947.0\n",
      "No match found, total points for B. Sai Sudharsan = 925.0\n",
      "No match found, total points for Dhruv Jurel = 254.0\n",
      "No match found, total points for Faf Du Plessis = 1486.0\n",
      "Match found, points for Fazalhaq Farooqi = 153.0\n",
      "Match found, points for Harpreet  Brar = 607.0\n",
      "Match found, points for Harshit Rana = 452.0\n",
      "No match found, total points for Ishan Kishan = 1116.0\n",
      "Match found, points for Jason Behrendorff = 431.0\n",
      "No match found, total points for Jos Buttler = 1574.0\n",
      "Match found, points for K. Gowtham = 261.0\n",
      "No match found, total points for KL Rahul = 1296.0\n",
      "No match found, total points for Kane Williamson = 243.0\n",
      "Match found, points for Kuldeep Yadav = 1190.0\n",
      "Match found, points for Lalit Yadav = 412.0\n",
      "Match found, points for Liam Livingstone = 1102.0\n",
      "No match found, total points for MS Dhoni = 446.0\n",
      "No match found, total points for Mayank Dagar (T) = 50.0\n",
      "Match found, points for Mohammad Shami = 1230.0\n",
      "Match found, points for Mohammad Shami = 1230.0\n",
      "Match found, points for Mohammad Shami = 1230.0\n",
      "Match found, points for Mohammad Shami = 1230.0\n",
      "Match found, points for Mohammed Siraj = 918.0\n",
      "Match found, points for Mohsin Khan = 675.0\n",
      "Match found, points for Mukesh Choudhary = 406.0\n",
      "Match found, points for Mukesh Kumar = 607.0\n",
      "Match found, points for Navdeep Saini = 152.0\n",
      "No match found, total points for Nehal Wadhera = 340.0\n",
      "Match found, points for Nitish Kumar Reddy = 218.0\n",
      "Match found, points for Noor Ahmad = 563.0\n",
      "Match found, points for Prasidh Krishna = 531.0\n",
      "Match found, points for R. Ashwin = 1061.0\n",
      "Match found, points for R. Ashwin = 1061.0\n",
      "Match found, points for R. Ashwin = 1061.0\n",
      "Match found, points for R. Ashwin = 1061.0\n",
      "Match found, points for R. Sai Kishore = 338.0\n",
      "No match found, total points for Rahmanullah Gurbaz = 227.0\n",
      "Match found, points for Rahul Tewatia = 482.0\n",
      "Match found, points for Rashid Khan = 1705.0\n",
      "Match found, points for Ravi Bishnoi = 945.0\n",
      "Match found, points for Sam Curran = 1029.0\n",
      "Match found, points for Sandeep Sharma = 652.0\n",
      "No match found, total points for Sanvir  Singh = 11.0\n",
      "No match found, total points for Shubman Gill = 1693.0\n",
      "Match found, points for Sikandar Raza = 257.0\n",
      "Match found, points for Simarjeet Singh = 107.0\n",
      "No match found, total points for T. Natarajan = 1150.0\n",
      "No match found, total points for Tilak Varma = 1083.0\n",
      "No match found, total points for Tim David = 634.0\n",
      "Match found, points for Umran Malik = 748.0\n",
      "Match found, points for Vijay Shankar = 418.0\n",
      "No match found, total points for Vishnu Vinod = 37.0\n",
      "Match found, points for Washington Sundar = 411.0\n",
      "No match found, total points for Yash Thakur = 650.0\n"
     ]
    },
    {
     "name": "stderr",
     "output_type": "stream",
     "text": [
      "C:\\Users\\sharo\\AppData\\Local\\Temp\\ipykernel_16272\\3454125916.py:11: FutureWarning: A value is trying to be set on a copy of a DataFrame or Series through chained assignment using an inplace method.\n",
      "The behavior will change in pandas 3.0. This inplace method will never work because the intermediate object on which we are setting values always behaves as a copy.\n",
      "\n",
      "For example, when doing 'df[col].method(value, inplace=True)', try using 'df.method({col: value}, inplace=True)' or df[col] = df[col].method(value) instead, to perform the operation inplace on the original object.\n",
      "\n",
      "\n",
      "  combined_df['Points for Batsman'].fillna(0, inplace=True)\n",
      "C:\\Users\\sharo\\AppData\\Local\\Temp\\ipykernel_16272\\3454125916.py:12: FutureWarning: A value is trying to be set on a copy of a DataFrame or Series through chained assignment using an inplace method.\n",
      "The behavior will change in pandas 3.0. This inplace method will never work because the intermediate object on which we are setting values always behaves as a copy.\n",
      "\n",
      "For example, when doing 'df[col].method(value, inplace=True)', try using 'df.method({col: value}, inplace=True)' or df[col] = df[col].method(value) instead, to perform the operation inplace on the original object.\n",
      "\n",
      "\n",
      "  combined_df['Points for Bowler'].fillna(0, inplace=True)\n"
     ]
    }
   ],
   "source": [
    "import pandas as pd\n",
    "\n",
    "\n",
    "striker_df = pd.read_csv('output_striker.csv')\n",
    "bowler_df = pd.read_csv('output_bowler.csv')\n",
    "\n",
    "\n",
    "combined_df = pd.merge(striker_df, bowler_df, on='Player', how='outer', suffixes=('_Batsman', '_Bowler'))\n",
    "\n",
    "\n",
    "combined_df['Points for Batsman'].fillna(0, inplace=True)\n",
    "combined_df['Points for Bowler'].fillna(0, inplace=True)\n",
    "\n",
    "\n",
    "for index, row in combined_df.iterrows():\n",
    "    if pd.notna(row['Points for Batsman']) and pd.notna(row['Points for Bowler']):\n",
    "        total_points = row['Points for Batsman'] + row['Points for Bowler']\n",
    "        if row['Points for Batsman'] > 0 and row['Points for Bowler'] > 0:\n",
    "            print(f\"Match found, points for {row['Player']} = {total_points}\")\n",
    "        else:\n",
    "            print(f\"No match found, total points for {row['Player']} = {total_points}\")\n",
    "    else:\n",
    "        total_points = row['Points for Batsman'] + row['Points_Bowler']\n",
    "        print(f\"No match found, total points for {row['Player']} = {total_points}\")\n",
    "\n",
    "\n",
    "combined_df['Total_Points'] = combined_df['Points for Batsman'] + combined_df['Points for Bowler']\n",
    "combined_df.to_csv('combined_output.csv', index=False)"
   ]
  },
  {
   "cell_type": "code",
   "execution_count": 62,
   "id": "c841340a-e4f0-47e9-b5f0-07baaac2cf26",
   "metadata": {},
   "outputs": [
    {
     "name": "stdout",
     "output_type": "stream",
     "text": [
      "Player Abdul Samad matched with a salary of Rs 400\n",
      "Player Abhishek Porel matched with a salary of Rs 20\n",
      "Player Abhishek Sharma matched with a salary of Rs 650\n",
      "Player Adam Zampa matched with a salary of Rs 150\n",
      "Player Akash Deep matched with a salary of Rs 20\n",
      "Player Akash Madhwal matched with a salary of Rs 20\n",
      "Player Amit Mishra matched with a salary of Rs 50\n",
      "Player Anmolpreet Singh matched with a salary of Rs 20\n",
      "Player Anuj Rawat matched with a salary of Rs 340\n",
      "Player Arjun Tendulkar matched with a salary of Rs 30\n",
      "Player Arshdeep Singh matched with a salary of Rs 400\n",
      "Player Atharva Taide matched with a salary of Rs 20\n",
      "Player Avesh Khan (T) matched with a salary of Rs 1000\n",
      "Player B. Sai Sudharsan matched with a salary of Rs 20\n",
      "Player Dhruv Jurel matched with a salary of Rs 20\n",
      "Player Faf Du Plessis matched with a salary of Rs 700\n",
      "Player Fazalhaq Farooqi matched with a salary of Rs 50\n",
      "Player Harpreet  Brar matched with a salary of Rs 380\n",
      "Player Harshit Rana matched with a salary of Rs 20\n",
      "Player Ishan Kishan matched with a salary of Rs 1525\n",
      "Player Jason Behrendorff matched with a salary of Rs 50\n",
      "Player Jos Buttler matched with a salary of Rs 1000\n",
      "Player K. Gowtham matched with a salary of Rs 90\n",
      "Player KL Rahul matched with a salary of Rs 1700\n",
      "Player Kane Williamson matched with a salary of Rs 200\n",
      "Player Kuldeep Yadav matched with a salary of Rs 200\n",
      "Player Lalit Yadav matched with a salary of Rs 65\n",
      "Player Liam Livingstone matched with a salary of Rs 1150\n",
      "Player MS Dhoni matched with a salary of Rs 1200\n",
      "Player Mayank Dagar (T) matched with a salary of Rs 180\n",
      "Player Mohammad Shami matched with a salary of Rs 625\n",
      "Player Mohammad Shami matched with a salary of Rs 625\n",
      "Player Mohammad Shami matched with a salary of Rs 625\n",
      "Player Mohammad Shami matched with a salary of Rs 625\n",
      "Player Mohammed Siraj matched with a salary of Rs 700\n",
      "Player Mohsin Khan matched with a salary of Rs 20\n",
      "Player Mukesh Choudhary matched with a salary of Rs 20\n",
      "Player Mukesh Kumar matched with a salary of Rs 550\n",
      "Player Navdeep Saini matched with a salary of Rs 260\n",
      "Player Nehal Wadhera matched with a salary of Rs 20\n",
      "Player Nitish Kumar Reddy matched with a salary of Rs 20\n",
      "Player Noor Ahmad matched with a salary of Rs 30\n",
      "Player Prasidh Krishna matched with a salary of Rs 1000\n",
      "Player R. Ashwin matched with a salary of Rs 500\n",
      "Player R. Ashwin matched with a salary of Rs 500\n",
      "Player R. Ashwin matched with a salary of Rs 500\n",
      "Player R. Ashwin matched with a salary of Rs 500\n",
      "Player R. Sai Kishore matched with a salary of Rs 300\n",
      "Player Rahmanullah Gurbaz matched with a salary of Rs 50\n",
      "Player Rahul Tewatia matched with a salary of Rs 900\n",
      "Player Rashid Khan matched with a salary of Rs 1500\n",
      "Player Ravi Bishnoi matched with a salary of Rs 400\n",
      "Player Sam Curran matched with a salary of Rs 1850\n",
      "Player Sandeep Sharma matched with a salary of Rs 50\n",
      "Player Sanvir  Singh matched with a salary of Rs 20\n",
      "Player Shubman Gill matched with a salary of Rs 700\n",
      "Player Sikandar Raza matched with a salary of Rs 50\n",
      "Player Simarjeet Singh matched with a salary of Rs 20\n",
      "Player T. Natarajan matched with a salary of Rs 320\n",
      "Player Tilak Varma matched with a salary of Rs 170\n",
      "Player Tim David matched with a salary of Rs 850\n",
      "Player Umran Malik matched with a salary of Rs 400\n",
      "Player Vijay Shankar matched with a salary of Rs 140\n",
      "Player Vishnu Vinod matched with a salary of Rs 20\n",
      "Player Washington Sundar matched with a salary of Rs 875\n",
      "Player Yash Thakur matched with a salary of Rs 45\n",
      "Updated DataFrame with salaries saved to 'combined_output_with_salaries.csv'.\n"
     ]
    }
   ],
   "source": [
    "import os\n",
    "import pandas as pd\n",
    "\n",
    "\n",
    "combined_output = pd.read_csv('combined_output.csv')\n",
    "\n",
    "\n",
    "ipl_salaries = pd.read_excel(\"C:\\\\vcu extra\\\\assignment\\\\data\\\\IPL SALARIES 2024.xlsx\")\n",
    "\n",
    "\n",
    "player_salaries = ipl_salaries[['Player', 'Rs']]\n",
    "\n",
    "\n",
    "salary_dict = dict(zip(player_salaries['Player'], player_salaries['Rs']))\n",
    "\n",
    "\n",
    "combined_output['salary'] = float('nan')\n",
    "\n",
    "\n",
    "for index, row in combined_output.iterrows():\n",
    "    player_name = row['Player']\n",
    "    if player_name in salary_dict:\n",
    "        combined_output.at[index, 'salary'] = salary_dict[player_name]\n",
    "        print(f\"Player {player_name} matched with a salary of Rs {salary_dict[player_name]}\")\n",
    "\n",
    "\n",
    "os.chdir(\"C:\\\\vcu extra\\\\assignment\\\\data\")\n",
    "\n",
    "\n",
    "output_file_path = 'combined_output_with_salaries.csv'\n",
    "combined_output.to_csv(output_file_path, index=False)\n",
    "\n",
    "print(f\"Updated DataFrame with salaries saved to '{output_file_path}'.\")"
   ]
  },
  {
   "cell_type": "code",
   "execution_count": 63,
   "id": "b304ee85-97ba-411b-8ece-0e8ec6061691",
   "metadata": {},
   "outputs": [
    {
     "name": "stdout",
     "output_type": "stream",
     "text": [
      "Filtered data saved to 'combined_output_with_salaries - Copy.csv'.\n"
     ]
    }
   ],
   "source": [
    "import os\n",
    "import pandas as pd\n",
    "\n",
    "\n",
    "input_file = 'combined_output_with_salaries.csv'\n",
    "output_file = 'combined_output_with_salaries - Copy.csv'\n",
    "\n",
    "\n",
    "columns_to_keep = ['Player', 'Total_Points', 'salary']\n",
    "\n",
    "\n",
    "df = pd.read_csv(input_file)\n",
    "\n",
    "\n",
    "df_filtered = df[columns_to_keep]\n",
    "\n",
    "\n",
    "df_filtered.to_csv(output_file, index=False)\n",
    "\n",
    "print(f\"Filtered data saved to '{output_file}'.\")"
   ]
  },
  {
   "cell_type": "code",
   "execution_count": 64,
   "id": "31635d54-f772-413b-8b8f-57df0f2edc33",
   "metadata": {},
   "outputs": [
    {
     "name": "stdout",
     "output_type": "stream",
     "text": [
      "Mean Squared Error: 76369.6226480892\n",
      "R^2 Score: 0.1968522116878728\n",
      "Adjusted R^2 Score: 0.12992322932852884\n",
      "Coefficients: [0.63841571]\n",
      "Intercept: 23.714460656558913\n"
     ]
    },
    {
     "data": {
      "image/png": "[encoded data removed]",
      "text/plain": [
       "<Figure size 640x480 with 1 Axes>"
      ]
     },
     "metadata": {},
     "output_type": "display_data"
    }
   ],
   "source": [
    "import pandas as pd\n",
    "import numpy as np\n",
    "from sklearn.model_selection import train_test_split\n",
    "from sklearn.linear_model import LinearRegression\n",
    "from sklearn.metrics import mean_squared_error, r2_score\n",
    "import matplotlib.pyplot as plt\n",
    "\n",
    "\n",
    "file_path = 'combined_output_with_salaries - Copy.csv'\n",
    "data = pd.read_csv(file_path)\n",
    "\n",
    "y = data['salary'] \n",
    "X = data[['Total_Points']] \n",
    "\n",
    "\n",
    "X_train, X_test, y_train, y_test = train_test_split(X, y, test_size=0.2, random_state=42)\n",
    "\n",
    "\n",
    "model = LinearRegression()\n",
    "\n",
    "\n",
    "model.fit(X_train, y_train)\n",
    "\n",
    "\n",
    "y_pred = model.predict(X_test)\n",
    "\n",
    "\n",
    "mse = mean_squared_error(y_test, y_pred)\n",
    "r2 = r2_score(y_test, y_pred)\n",
    "\n",
    "\n",
    "n = len(y_test)\n",
    "p = X_test.shape[1]\n",
    "adjusted_r2 = 1 - (1 - r2) * (n - 1) / (n - p - 1)\n",
    "\n",
    "\n",
    "print(f'Mean Squared Error: {mse}')\n",
    "print(f'R^2 Score: {r2}')\n",
    "print(f'Adjusted R^2 Score: {adjusted_r2}')\n",
    "print(f'Coefficients: {model.coef_}')\n",
    "print(f'Intercept: {model.intercept_}')\n",
    "\n",
    "\n",
    "plt.scatter(X_test, y_test, color='black', label='Actual')\n",
    "plt.plot(X_test, y_pred, color='blue', linewidth=3, label='Predicted')\n",
    "plt.xlabel('Salary')\n",
    "plt.ylabel('Total Points')\n",
    "plt.title('Linear Regression: Total Points vs Salary')\n",
    "plt.legend()\n",
    "plt.show()"
   ]
  }
 ],
 "metadata": {
  "kernelspec": {
   "display_name": "Python [conda env:base] *",
   "language": "python",
   "name": "conda-base-py"
  },
  "language_info": {
   "codemirror_mode": {
    "name": "ipython",
    "version": 3
   },
   "file_extension": ".py",
   "mimetype": "text/x-python",
   "name": "python",
   "nbconvert_exporter": "python",
   "pygments_lexer": "ipython3",
   "version": "3.12.7"
  }
 },
 "nbformat": 4,
 "nbformat_minor": 5
}
