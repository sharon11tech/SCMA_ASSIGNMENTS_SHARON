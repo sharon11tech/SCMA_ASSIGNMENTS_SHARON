{
 "cells": [
  {
   "cell_type": "code",
   "execution_count": null,
   "id": "e883e9ce-44a4-4caa-99ef-469364084ab8",
   "metadata": {},
   "outputs": [],
   "source": []
  },
  {
   "cell_type": "code",
   "execution_count": 2,
   "id": "27d76ef6-653e-4169-b3d9-7323bc6913d6",
   "metadata": {},
   "outputs": [],
   "source": [
    "import os\n",
    "os.chdir(\"C:/vcu extra/assignment/Python\")"
   ]
  },
  {
   "cell_type": "code",
   "execution_count": 3,
   "id": "936dd5fc-9418-4511-aaf8-368649b45474",
   "metadata": {},
   "outputs": [
    {
     "name": "stdout",
     "output_type": "stream",
     "text": [
      "Requirement already satisfied: pandas in c:\\users\\sharo\\anaconda3\\lib\\site-packages (2.2.2)\n",
      "Requirement already satisfied: numpy>=1.26.0 in c:\\users\\sharo\\anaconda3\\lib\\site-packages (from pandas) (1.26.4)\n",
      "Requirement already satisfied: python-dateutil>=2.8.2 in c:\\users\\sharo\\anaconda3\\lib\\site-packages (from pandas) (2.9.0.post0)\n",
      "Requirement already satisfied: pytz>=2020.1 in c:\\users\\sharo\\anaconda3\\lib\\site-packages (from pandas) (2024.1)\n",
      "Requirement already satisfied: tzdata>=2022.7 in c:\\users\\sharo\\anaconda3\\lib\\site-packages (from pandas) (2023.3)\n",
      "Requirement already satisfied: six>=1.5 in c:\\users\\sharo\\anaconda3\\lib\\site-packages (from python-dateutil>=2.8.2->pandas) (1.16.0)\n"
     ]
    }
   ],
   "source": [
    "!pip install pandas"
   ]
  },
  {
   "cell_type": "code",
   "execution_count": 4,
   "id": "c6e8044f-11f1-44bb-88ac-911af86e4f20",
   "metadata": {},
   "outputs": [
    {
     "name": "stdout",
     "output_type": "stream",
     "text": [
      "Requirement already satisfied: numpy in c:\\users\\sharo\\anaconda3\\lib\\site-packages (1.26.4)\n"
     ]
    }
   ],
   "source": [
    "!pip install numpy"
   ]
  },
  {
   "cell_type": "code",
   "execution_count": 5,
   "id": "6deaecf3-1e94-46c1-91ea-ad96cf0ec87c",
   "metadata": {},
   "outputs": [
    {
     "name": "stdout",
     "output_type": "stream",
     "text": [
      "Requirement already satisfied: matplotlib in c:\\users\\sharo\\anaconda3\\lib\\site-packages (3.9.2)\n",
      "Requirement already satisfied: contourpy>=1.0.1 in c:\\users\\sharo\\anaconda3\\lib\\site-packages (from matplotlib) (1.2.0)\n",
      "Requirement already satisfied: cycler>=0.10 in c:\\users\\sharo\\anaconda3\\lib\\site-packages (from matplotlib) (0.11.0)\n",
      "Requirement already satisfied: fonttools>=4.22.0 in c:\\users\\sharo\\anaconda3\\lib\\site-packages (from matplotlib) (4.51.0)\n",
      "Requirement already satisfied: kiwisolver>=1.3.1 in c:\\users\\sharo\\anaconda3\\lib\\site-packages (from matplotlib) (1.4.4)\n",
      "Requirement already satisfied: numpy>=1.23 in c:\\users\\sharo\\anaconda3\\lib\\site-packages (from matplotlib) (1.26.4)\n",
      "Requirement already satisfied: packaging>=20.0 in c:\\users\\sharo\\anaconda3\\lib\\site-packages (from matplotlib) (24.1)\n",
      "Requirement already satisfied: pillow>=8 in c:\\users\\sharo\\anaconda3\\lib\\site-packages (from matplotlib) (10.4.0)\n",
      "Requirement already satisfied: pyparsing>=2.3.1 in c:\\users\\sharo\\anaconda3\\lib\\site-packages (from matplotlib) (3.1.2)\n",
      "Requirement already satisfied: python-dateutil>=2.7 in c:\\users\\sharo\\anaconda3\\lib\\site-packages (from matplotlib) (2.9.0.post0)\n",
      "Requirement already satisfied: six>=1.5 in c:\\users\\sharo\\anaconda3\\lib\\site-packages (from python-dateutil>=2.7->matplotlib) (1.16.0)\n"
     ]
    }
   ],
   "source": [
    "!pip install matplotlib"
   ]
  },
  {
   "cell_type": "code",
   "execution_count": 6,
   "id": "2657ea08-5e06-4f07-bcf2-bde9871a3d6b",
   "metadata": {},
   "outputs": [
    {
     "name": "stdout",
     "output_type": "stream",
     "text": [
      "Requirement already satisfied: statsmodels in c:\\users\\sharo\\anaconda3\\lib\\site-packages (0.14.2)\n",
      "Requirement already satisfied: numpy>=1.22.3 in c:\\users\\sharo\\anaconda3\\lib\\site-packages (from statsmodels) (1.26.4)\n",
      "Requirement already satisfied: scipy!=1.9.2,>=1.8 in c:\\users\\sharo\\anaconda3\\lib\\site-packages (from statsmodels) (1.13.1)\n",
      "Requirement already satisfied: pandas!=2.1.0,>=1.4 in c:\\users\\sharo\\anaconda3\\lib\\site-packages (from statsmodels) (2.2.2)\n",
      "Requirement already satisfied: patsy>=0.5.6 in c:\\users\\sharo\\anaconda3\\lib\\site-packages (from statsmodels) (0.5.6)\n",
      "Requirement already satisfied: packaging>=21.3 in c:\\users\\sharo\\anaconda3\\lib\\site-packages (from statsmodels) (24.1)\n",
      "Requirement already satisfied: python-dateutil>=2.8.2 in c:\\users\\sharo\\anaconda3\\lib\\site-packages (from pandas!=2.1.0,>=1.4->statsmodels) (2.9.0.post0)\n",
      "Requirement already satisfied: pytz>=2020.1 in c:\\users\\sharo\\anaconda3\\lib\\site-packages (from pandas!=2.1.0,>=1.4->statsmodels) (2024.1)\n",
      "Requirement already satisfied: tzdata>=2022.7 in c:\\users\\sharo\\anaconda3\\lib\\site-packages (from pandas!=2.1.0,>=1.4->statsmodels) (2023.3)\n",
      "Requirement already satisfied: six in c:\\users\\sharo\\anaconda3\\lib\\site-packages (from patsy>=0.5.6->statsmodels) (1.16.0)\n"
     ]
    }
   ],
   "source": [
    "!pip install statsmodels"
   ]
  },
  {
   "cell_type": "code",
   "execution_count": 7,
   "id": "1cbd8acd-16b5-458c-a2e5-3dac4a2eeb98",
   "metadata": {},
   "outputs": [],
   "source": [
    "import pandas as pd\n",
    "import numpy as np\n",
    "import matplotlib.pyplot as plt\n",
    "from statsmodels.stats import weightstats as stests"
   ]
  },
  {
   "cell_type": "code",
   "execution_count": 8,
   "id": "14582682-50fe-4082-af1b-e5db92ae31af",
   "metadata": {},
   "outputs": [],
   "source": [
    "df=pd.read_csv(\"C:\\\\vcu extra\\\\assignment\\\\data\\\\NSSO68.csv\",encoding=\"Latin-1\", low_memory=False)"
   ]
  },
  {
   "cell_type": "code",
   "execution_count": 9,
   "id": "ed67c5e9-b1d5-4b94-8cd5-9e7d0207e7a6",
   "metadata": {},
   "outputs": [
    {
     "data": {
      "text/html": [
       "<div>\n",
       "<style scoped>\n",
       "    .dataframe tbody tr th:only-of-type {\n",
       "        vertical-align: middle;\n",
       "    }\n",
       "\n",
       "    .dataframe tbody tr th {\n",
       "        vertical-align: top;\n",
       "    }\n",
       "\n",
       "    .dataframe thead th {\n",
       "        text-align: right;\n",
       "    }\n",
       "</style>\n",
       "<table border=\"1\" class=\"dataframe\">\n",
       "  <thead>\n",
       "    <tr style=\"text-align: right;\">\n",
       "      <th></th>\n",
       "      <th>slno</th>\n",
       "      <th>grp</th>\n",
       "      <th>Round_Centre</th>\n",
       "      <th>FSU_number</th>\n",
       "      <th>Round</th>\n",
       "      <th>Schedule_Number</th>\n",
       "      <th>Sample</th>\n",
       "      <th>Sector</th>\n",
       "      <th>state</th>\n",
       "      <th>State_Region</th>\n",
       "      <th>...</th>\n",
       "      <th>pickle_v</th>\n",
       "      <th>sauce_jam_v</th>\n",
       "      <th>Othrprocessed_v</th>\n",
       "      <th>Beveragestotal_v</th>\n",
       "      <th>foodtotal_v</th>\n",
       "      <th>foodtotal_q</th>\n",
       "      <th>state_1</th>\n",
       "      <th>Region</th>\n",
       "      <th>fruits_df_tt_v</th>\n",
       "      <th>fv_tot</th>\n",
       "    </tr>\n",
       "  </thead>\n",
       "  <tbody>\n",
       "    <tr>\n",
       "      <th>0</th>\n",
       "      <td>1</td>\n",
       "      <td>4.10E+31</td>\n",
       "      <td>1</td>\n",
       "      <td>41000</td>\n",
       "      <td>68</td>\n",
       "      <td>10</td>\n",
       "      <td>1</td>\n",
       "      <td>2</td>\n",
       "      <td>24</td>\n",
       "      <td>242</td>\n",
       "      <td>...</td>\n",
       "      <td>0.0</td>\n",
       "      <td>0.0</td>\n",
       "      <td>0.0</td>\n",
       "      <td>0.000000</td>\n",
       "      <td>1141.492400</td>\n",
       "      <td>30.942394</td>\n",
       "      <td>GUJ</td>\n",
       "      <td>2</td>\n",
       "      <td>12.000000</td>\n",
       "      <td>154.18</td>\n",
       "    </tr>\n",
       "    <tr>\n",
       "      <th>1</th>\n",
       "      <td>2</td>\n",
       "      <td>4.10E+31</td>\n",
       "      <td>1</td>\n",
       "      <td>41000</td>\n",
       "      <td>68</td>\n",
       "      <td>10</td>\n",
       "      <td>1</td>\n",
       "      <td>2</td>\n",
       "      <td>24</td>\n",
       "      <td>242</td>\n",
       "      <td>...</td>\n",
       "      <td>0.0</td>\n",
       "      <td>0.0</td>\n",
       "      <td>0.0</td>\n",
       "      <td>17.500000</td>\n",
       "      <td>1244.553500</td>\n",
       "      <td>29.286153</td>\n",
       "      <td>GUJ</td>\n",
       "      <td>2</td>\n",
       "      <td>333.000000</td>\n",
       "      <td>484.95</td>\n",
       "    </tr>\n",
       "    <tr>\n",
       "      <th>2</th>\n",
       "      <td>3</td>\n",
       "      <td>4.10E+31</td>\n",
       "      <td>1</td>\n",
       "      <td>41000</td>\n",
       "      <td>68</td>\n",
       "      <td>10</td>\n",
       "      <td>1</td>\n",
       "      <td>2</td>\n",
       "      <td>24</td>\n",
       "      <td>242</td>\n",
       "      <td>...</td>\n",
       "      <td>0.0</td>\n",
       "      <td>0.0</td>\n",
       "      <td>0.0</td>\n",
       "      <td>0.000000</td>\n",
       "      <td>1050.315400</td>\n",
       "      <td>31.527046</td>\n",
       "      <td>GUJ</td>\n",
       "      <td>2</td>\n",
       "      <td>35.000000</td>\n",
       "      <td>214.84</td>\n",
       "    </tr>\n",
       "    <tr>\n",
       "      <th>3</th>\n",
       "      <td>4</td>\n",
       "      <td>4.10E+31</td>\n",
       "      <td>1</td>\n",
       "      <td>41000</td>\n",
       "      <td>68</td>\n",
       "      <td>10</td>\n",
       "      <td>1</td>\n",
       "      <td>2</td>\n",
       "      <td>24</td>\n",
       "      <td>242</td>\n",
       "      <td>...</td>\n",
       "      <td>0.0</td>\n",
       "      <td>0.0</td>\n",
       "      <td>0.0</td>\n",
       "      <td>33.333333</td>\n",
       "      <td>1142.591667</td>\n",
       "      <td>27.834607</td>\n",
       "      <td>GUJ</td>\n",
       "      <td>2</td>\n",
       "      <td>168.333333</td>\n",
       "      <td>302.30</td>\n",
       "    </tr>\n",
       "    <tr>\n",
       "      <th>4</th>\n",
       "      <td>5</td>\n",
       "      <td>4.10E+31</td>\n",
       "      <td>1</td>\n",
       "      <td>41000</td>\n",
       "      <td>68</td>\n",
       "      <td>10</td>\n",
       "      <td>1</td>\n",
       "      <td>2</td>\n",
       "      <td>24</td>\n",
       "      <td>242</td>\n",
       "      <td>...</td>\n",
       "      <td>0.0</td>\n",
       "      <td>0.0</td>\n",
       "      <td>0.0</td>\n",
       "      <td>75.000000</td>\n",
       "      <td>945.249500</td>\n",
       "      <td>27.600713</td>\n",
       "      <td>GUJ</td>\n",
       "      <td>2</td>\n",
       "      <td>15.000000</td>\n",
       "      <td>148.00</td>\n",
       "    </tr>\n",
       "  </tbody>\n",
       "</table>\n",
       "<p>5 rows × 384 columns</p>\n",
       "</div>"
      ],
      "text/plain": [
       "   slno       grp  Round_Centre  FSU_number  Round  Schedule_Number  Sample  \\\n",
       "0     1  4.10E+31             1       41000     68               10       1   \n",
       "1     2  4.10E+31             1       41000     68               10       1   \n",
       "2     3  4.10E+31             1       41000     68               10       1   \n",
       "3     4  4.10E+31             1       41000     68               10       1   \n",
       "4     5  4.10E+31             1       41000     68               10       1   \n",
       "\n",
       "   Sector  state  State_Region  ...  pickle_v  sauce_jam_v  Othrprocessed_v  \\\n",
       "0       2     24           242  ...       0.0          0.0              0.0   \n",
       "1       2     24           242  ...       0.0          0.0              0.0   \n",
       "2       2     24           242  ...       0.0          0.0              0.0   \n",
       "3       2     24           242  ...       0.0          0.0              0.0   \n",
       "4       2     24           242  ...       0.0          0.0              0.0   \n",
       "\n",
       "   Beveragestotal_v  foodtotal_v  foodtotal_q  state_1  Region  \\\n",
       "0          0.000000  1141.492400    30.942394      GUJ       2   \n",
       "1         17.500000  1244.553500    29.286153      GUJ       2   \n",
       "2          0.000000  1050.315400    31.527046      GUJ       2   \n",
       "3         33.333333  1142.591667    27.834607      GUJ       2   \n",
       "4         75.000000   945.249500    27.600713      GUJ       2   \n",
       "\n",
       "   fruits_df_tt_v  fv_tot  \n",
       "0       12.000000  154.18  \n",
       "1      333.000000  484.95  \n",
       "2       35.000000  214.84  \n",
       "3      168.333333  302.30  \n",
       "4       15.000000  148.00  \n",
       "\n",
       "[5 rows x 384 columns]"
      ]
     },
     "execution_count": 9,
     "metadata": {},
     "output_type": "execute_result"
    }
   ],
   "source": [
    "df.head()"
   ]
  },
  {
   "cell_type": "code",
   "execution_count": 10,
   "id": "dbd4e036-c8de-49d4-a14b-50976dafc884",
   "metadata": {},
   "outputs": [],
   "source": [
    "state_data=df[df['state_1']==\"MH\"]"
   ]
  },
  {
   "cell_type": "code",
   "execution_count": 29,
   "id": "e8b5ea73-6f88-4f77-8129-5a4427cd52be",
   "metadata": {},
   "outputs": [],
   "source": [
    "state_data.to_csv(\"../Filtered_state_data.csv\", index=False) "
   ]
  },
  {
   "cell_type": "code",
   "execution_count": 12,
   "id": "e3e0a4df-cc69-4bed-bf14-dc76daae86d6",
   "metadata": {},
   "outputs": [
    {
     "name": "stdout",
     "output_type": "stream",
     "text": [
      "Dataset Information:\n",
      "\n",
      "Column Names:\n",
      "['slno', 'grp', 'Round_Centre', 'FSU_number', 'Round', 'Schedule_Number', 'Sample', 'Sector', 'state', 'State_Region', 'District', 'Stratum_Number', 'Sub_Stratum', 'Schedule_type', 'Sub_Round', 'Sub_Sample', 'FOD_Sub_Region', 'Hamlet_Group_Sub_Block', 't', 'X_Stage_Stratum', 'HHS_No', 'Level', 'Filler', 'hhdsz', 'NIC_2008', 'NCO_2004', 'HH_type', 'Religion', 'Social_Group', 'Whether_owns_any_land', 'Type_of_land_owned', 'Land_Owned', 'Land_Leased_in', 'Otherwise_possessed', 'Land_Leased_out', 'Land_Total_possessed', 'During_July_June_Cultivated', 'During_July_June_Irrigated', 'NSS', 'NSC', 'MLT', 'land_tt', 'Cooking_code', 'Lighting_code', 'Dwelling_unit_code', 'Regular_salary_earner', 'Perform_Ceremony', 'Meals_seved_to_non_hhld_members', 'Possess_ration_card', 'Type_of_ration_card', 'MPCE_URP', 'MPCE_MRP', 'Person_Srl_No', 'Relation', 'Sex', 'Age', 'Marital_Status', 'Education', 'Days_Stayed_away', 'No_of_Meals_per_day', 'Meals_School', 'Meals_Employer', 'Meals_Others', 'Meals_Payment', 'Meals_At_Home', 'Item_Code', 'Source_Code', 'ricepds_q', 'riceos_q', 'ricetotal_q', 'chira_q', 'khoi_q', 'muri_q', 'ricepro_q', 'riceGT_q', 'Wheatpds_q', 'wheatos_q', 'wheattotal_q', 'maida_q', 'suji_q', 'sewai_q', 'bread_q', 'wheatp_q', 'wheatGT_q', 'jowarp_q', 'bajrap_q', 'maizep_q', 'barleyp_q', 'milletp_q', 'ragip_q', 'cerealot_q', 'cerealtot_q', 'cerealsub_q', 'cerealstt_q', 'arhar_q', 'gramdal_q', 'gramwholep_q', 'gramGT_q', 'moong_q', 'masur_q', 'urd_q', 'peasdal_q', 'khesari_q', 'otpulse_q', 'gramp_q', 'besan_q', 'pulsep_q', 'pulsestot_q', 'pulsestt_q', 'soyabean_q', 'milk_q', 'babyfood_q', 'milkcond_q', 'curd_q', 'ghee_q', 'butter_q', 'icecream_q', 'otmilkp_q', 'Milktotal_q', 'milkprott_q', 'vanas_q', 'musoil_q', 'gnoil_q', 'cocooil_q', 'edioilothr_q', 'edibletotal_q', 'ediblest_q', 'eggsno_q', 'fishprawn_q', 'goatmeat_q', 'beef_q', 'pork_q', 'chicken_q', 'othrbirds_q', 'nonvegtotal_q', 'emftt_q', 'potato_q', 'onion_q', 'tamato_q', 'brinjal_q', 'radish_q', 'carrot_q', 'palak_q', 'chillig_q', 'bhindi_q', 'parwal_q', 'cauli_q', 'cabbage_q', 'pumpkin_q', 'peas_q', 'fbeans_q', 'lemonno_q', 'otveg_q', 'vegtt_q', 'bananano_q', 'jackfruit_q', 'watermel_q', 'pineaplno_q', 'cocono_q', 'cocogno_q', 'guava_q', 'sighara_q', 'orangeno_q', 'papayar_q', 'mango_q', 'kharbooz_q', 'pears_q', 'berries_q', 'leechi_q', 'apple_q', 'grapes_q', 'otfruits_q', 'fruitstt_q', 'fruitt_total', 'cocodf_q', 'gnutdf_q', 'datesdf_q', 'cashewdf_q', 'walnutdf_q', 'otnutsdf_q', 'kishmish_q', 'otherdf_q', 'dryfruitstotal_q', 'dftt_q', 'sugarpds_q', 'sugaros_q', 'sugarst_q', 'gur_q', 'misri_q', 'honey_q', 'sugartotal_q', 'sugartt_q', 'salt_q', 'ginger_q', 'garlic_q', 'jeera_q', 'dhania_q', 'turnmeric_q', 'blackpepper_q', 'drychilly_q', 'tamarind_q', 'currypowder_q', 'oilseeds_q', 'spicesothr_q', 'spicetot_q', 'spicestotal_q', 'teacupno_q', 'tealeaf_q', 'teatotal_q', 'cofeeno_q', 'coffeepwdr_q', 'cofeetotal_q', 'ice_q', 'coldbvrg_q', 'juice_q', 'othrbevrg_q', 'bevergest_q', 'Biscuits_q', 'preparedsweet_q', 'pickle_q', 'sauce_jam_q', 'Othrprocessed_q', 'Beveragestotal_q', 'ricepds_v', 'riceos_v', 'ricetotal_v', 'chira_v', 'khoi_v', 'muri_v', 'ricepro_v', 'riceGT_v', 'Wheatpds_v', 'wheatos_v', 'wheattotal_v', 'maida_v', 'suji_v', 'sewai_v', 'bread_v', 'wheatp_v', 'wheatGT_v', 'jowarp_v', 'bajrap_v', 'maizep_v', 'barleyp_v', 'milletp_v', 'ragip_v', 'cerealot_v', 'cerealtot_v', 'cerealsub_v', 'cerealstt_v', 'arhar_v', 'gramdal_v', 'gramwholep_v', 'gramGT_v', 'moong_v', 'masur_v', 'urd_v', 'peasdal_v', 'khesari_v', 'otpulse_v', 'gramp_v', 'besan_v', 'pulsep_v', 'pulsestot_v', 'pulsestt_v', 'soyabean_v', 'milk_v', 'babyfood_v', 'milkcond_v', 'curd_v', 'ghee_v', 'butter_v', 'icecream_v', 'otmilkp_v', 'Milktotal_v', 'milkprott_v', 'vanas_v', 'musoil_v', 'gnoil_v', 'cocooil_v', 'edioilothr_v', 'edibletotal_v', 'ediblest_v', 'eggsno_v', 'fishprawn_v', 'goatmeat_v', 'beef_v', 'pork_v', 'chicken_v', 'othrbirds_v', 'nonvegtotal_v', 'emftt_v', 'potato_v', 'onion_v', 'tamato_v', 'brinjal_v', 'radish_v', 'carrot_v', 'palak_v', 'chillig_v', 'bhindi_v', 'parwal_v', 'cauli_v', 'cabbage_v', 'pumpkin_v', 'peas_v', 'fbeans_v', 'lemonno_v', 'otveg_v', 'vegtt_v', 'bananano_v', 'jackfruit_v', 'watermel_v', 'pineaplno_v', 'cocono_v', 'cocogno_v', 'guava_v', 'sighara_v', 'orangeno_v', 'papayar_v', 'mango_v', 'kharbooz_v', 'pears_v', 'berries_v', 'leechi_v', 'apple_v', 'grapes_v', 'otfruits_v', 'fruitstt_v', 'cocodf_v', 'gnutdf_v', 'datesdf_v', 'cashewdf_v', 'walnutdf_v', 'otnutsdf_v', 'kishmish_v', 'otherdf_v', 'dryfruitstotal_v', 'dftt_v', 'sugarpds_v', 'sugaros_v', 'sugarst_v', 'gur_v', 'misri_v', 'honey_v', 'sugartotal_v', 'sugartt_v', 'salt_v', 'ginger_v', 'garlic_v', 'jeera_v', 'dhania_v', 'turnmeric_v', 'blackpepper_v', 'drychilly_v', 'tamarind_v', 'currypowder_v', 'oilseeds_v', 'spicesothr_v', 'spicetot_v', 'spicestotal_v', 'teacupno_v', 'tealeaf_v', 'teatotal_v', 'cofeeno_v', 'coffeepwdr_v', 'cofeetotal_v', 'ice_v', 'coldbvrg_v', 'juice_v', 'othrbevrg_v', 'bevergest_v', 'Biscuits_v', 'preparedsweet_v', 'pickle_v', 'sauce_jam_v', 'Othrprocessed_v', 'Beveragestotal_v', 'foodtotal_v', 'foodtotal_q', 'state_1', 'Region', 'fruits_df_tt_v', 'fv_tot']\n",
      "\n",
      "First 5 rows:\n",
      "      slno       grp  Round_Centre  FSU_number  Round  Schedule_Number  \\\n",
      "7577  7578  4.21E+31             1       42100     68               10   \n",
      "7578  7579  4.21E+31             1       42100     68               10   \n",
      "7579  7580  4.21E+31             1       42100     68               10   \n",
      "7580  7581  4.21E+31             1       42100     68               10   \n",
      "7581  7582  4.21E+31             1       42100     68               10   \n",
      "\n",
      "      Sample  Sector  state  State_Region  ...  pickle_v  sauce_jam_v  \\\n",
      "7577       1       2     27           271  ...       0.0          0.0   \n",
      "7578       1       2     27           271  ...       0.0          0.0   \n",
      "7579       1       2     27           271  ...       0.0          0.0   \n",
      "7580       1       2     27           271  ...       0.0          0.0   \n",
      "7581       1       2     27           271  ...       0.0          0.0   \n",
      "\n",
      "      Othrprocessed_v  Beveragestotal_v  foodtotal_v  foodtotal_q  state_1  \\\n",
      "7577         0.000000             12.50    829.77200    22.900388       MH   \n",
      "7578         6.666667             25.00   1167.59300    31.650533       MH   \n",
      "7579         0.000000             25.00     25.00000     0.000000       MH   \n",
      "7580         0.000000             15.00    715.68925    19.337788       MH   \n",
      "7581         0.000000             46.25    933.31425    23.300338       MH   \n",
      "\n",
      "      Region  fruits_df_tt_v   fv_tot  \n",
      "7577       1          69.600  226.075  \n",
      "7578       1          29.000  232.400  \n",
      "7579       1          36.800   36.800  \n",
      "7580       1          20.875  132.100  \n",
      "7581       1          87.125  237.600  \n",
      "\n",
      "[5 rows x 384 columns]\n",
      "\n",
      "Dimensions(rows,columns):\n",
      "(8043, 384)\n",
      "\n",
      "Total Missing Values:\n",
      "93676\n"
     ]
    }
   ],
   "source": [
    "print(\"Dataset Information:\\n\")\n",
    "print(\"Column Names:\")\n",
    "print(state_data.columns.tolist())\n",
    "print(\"\\nFirst 5 rows:\")\n",
    "print(state_data.head())\n",
    "print(\"\\nDimensions(rows,columns):\")\n",
    "print(state_data.shape)\n",
    "print(\"\\nTotal Missing Values:\")\n",
    "print(state_data.isna().sum().sum())"
   ]
  },
  {
   "cell_type": "code",
   "execution_count": 13,
   "id": "6fa8637f-7c82-4766-b271-cd6c6ee58fa9",
   "metadata": {},
   "outputs": [
    {
     "data": {
      "text/plain": [
       "soyabean_q         8043\n",
       "soyabean_v         8043\n",
       "Meals_School       7953\n",
       "Meals_Employer     7899\n",
       "Land_Leased_out    7880\n",
       "                   ... \n",
       "palak_q               0\n",
       "carrot_q              0\n",
       "radish_q              0\n",
       "brinjal_q             0\n",
       "fv_tot                0\n",
       "Length: 384, dtype: int64"
      ]
     },
     "execution_count": 13,
     "metadata": {},
     "output_type": "execute_result"
    }
   ],
   "source": [
    "state_data.isnull().sum().sort_values(ascending=False)"
   ]
  },
  {
   "cell_type": "code",
   "execution_count": 14,
   "id": "f4a8c3fb-fb9c-4103-9438-ab2a775e6a73",
   "metadata": {},
   "outputs": [],
   "source": [
    "state_subset = state_data[[\n",
    "    'state_1', \n",
    "    'District', \n",
    "    'Region', \n",
    "    'Sector', \n",
    "    'State_Region', \n",
    "    'Meals_At_Home', \n",
    "    'ricetotal_v', \n",
    "    'wheattotal_v', \n",
    "    'Milktotal_v', \n",
    "    'pulsestot_v', \n",
    "    'nonvegtotal_v', \n",
    "    'fruitstt_v', \n",
    "    'No_of_Meals_per_day'\n",
    "]]"
   ]
  },
  {
   "cell_type": "code",
   "execution_count": 15,
   "id": "b77dd698-cafd-458f-bf28-5aa56ba32e61",
   "metadata": {},
   "outputs": [
    {
     "name": "stdout",
     "output_type": "stream",
     "text": [
      "Missing Values Before Imputation:\n",
      "\n",
      "state_1                  0\n",
      "District                 0\n",
      "Region                   0\n",
      "Sector                   0\n",
      "State_Region             0\n",
      "Meals_At_Home          184\n",
      "ricetotal_v              0\n",
      "wheattotal_v             0\n",
      "Milktotal_v              0\n",
      "pulsestot_v              0\n",
      "nonvegtotal_v            0\n",
      "fruitstt_v               0\n",
      "No_of_Meals_per_day      0\n",
      "dtype: int64\n"
     ]
    }
   ],
   "source": [
    "print(\"Missing Values Before Imputation:\\n\")\n",
    "print(state_subset.isna().sum())"
   ]
  },
  {
   "cell_type": "code",
   "execution_count": 16,
   "id": "ef6bc5fe-d0c1-4659-91c7-dde19b64f899",
   "metadata": {},
   "outputs": [
    {
     "name": "stdout",
     "output_type": "stream",
     "text": [
      "\n",
      " missing values after imputation:\n",
      "\n",
      "state_1                0\n",
      "District               0\n",
      "Region                 0\n",
      "Sector                 0\n",
      "State_Region           0\n",
      "Meals_At_Home          0\n",
      "ricetotal_v            0\n",
      "wheattotal_v           0\n",
      "Milktotal_v            0\n",
      "pulsestot_v            0\n",
      "nonvegtotal_v          0\n",
      "fruitstt_v             0\n",
      "No_of_Meals_per_day    0\n",
      "dtype: int64\n"
     ]
    }
   ],
   "source": [
    "state_cleaned=state_subset.fillna(state_subset.mean(numeric_only=True))\n",
    "print(\"\\n missing values after imputation:\\n\")\n",
    "print(state_cleaned.isna().sum())"
   ]
  },
  {
   "cell_type": "code",
   "execution_count": 17,
   "id": "13aea433-3e26-492f-852a-3a22ca15d593",
   "metadata": {},
   "outputs": [
    {
     "name": "stdout",
     "output_type": "stream",
     "text": [
      "\n",
      " columns in the cleaned dataset:\n",
      "['state_1', 'District', 'Region', 'Sector', 'State_Region', 'Meals_At_Home', 'ricetotal_v', 'wheattotal_v', 'Milktotal_v', 'pulsestot_v', 'nonvegtotal_v', 'fruitstt_v', 'No_of_Meals_per_day']\n"
     ]
    }
   ],
   "source": [
    "def remove_outliers(df,column_name):\n",
    "    Q1=df[column_name].quantile(0.25)\n",
    "    Q3=df[column_name].quantile(0.75)\n",
    "    IQR = Q3-Q1\n",
    "    lower_threshold=Q1-1.5*IQR\n",
    "    upper_threshold=Q3+1.5*IQR\n",
    "    return df[(df[column_name]>=lower_threshold)&(df[column_name]<=upper_threshold)]\n",
    "\n",
    "outlier_columns=['Meals_At_Home', 'ricetotal_v', 'wheattotal_v', 'Milktotal_v',\n",
    "    'pulsestot_v', 'nonvegtotal_v', 'fruitstt_v', 'No_of_Meals_per_day']\n",
    "\n",
    "for col in outlier_columns:\n",
    "    state_cleaned=remove_outliers(state_cleaned,col)\n",
    "\n",
    "print(\"\\n columns in the cleaned dataset:\")\n",
    "print(state_cleaned.columns.tolist())"
   ]
  },
  {
   "cell_type": "code",
   "execution_count": 18,
   "id": "88474f29-7fdc-43a2-b9b3-5cacb67dd296",
   "metadata": {},
   "outputs": [
    {
     "data": {
      "image/png": "[encoded data removed]",
      "text/plain": [
       "<Figure size 800x600 with 1 Axes>"
      ]
     },
     "metadata": {},
     "output_type": "display_data"
    }
   ],
   "source": [
    "import matplotlib.pyplot as plt\n",
    "plt.figure(figsize=(8,6))\n",
    "plt.boxplot(state_cleaned['ricetotal_v'])\n",
    "plt.xlabel('ricetotal_v')\n",
    "plt.ylabel('Values')\n",
    "plt.title('Boxplot of ricetotal_v')\n",
    "plt.show()\n"
   ]
  },
  {
   "cell_type": "code",
   "execution_count": 19,
   "id": "b971b131-2bc5-43d6-b9cc-275d14501541",
   "metadata": {},
   "outputs": [],
   "source": [
    "state_cleaned['total_consumption']=state_cleaned[['ricetotal_v', 'wheattotal_v', 'Milktotal_v', \n",
    "     'pulsestot_v', 'nonvegtotal_v', 'fruitstt_v']].sum(axis=1)"
   ]
  },
  {
   "cell_type": "code",
   "execution_count": 20,
   "id": "49d7b97d-00bc-42ae-aa19-476b63bc0c15",
   "metadata": {},
   "outputs": [
    {
     "name": "stdout",
     "output_type": "stream",
     "text": [
      "\n",
      " top 4 consuming districts:\n",
      "    District  total_consumption\n",
      "21        22      204660.832065\n",
      "20        21      187410.057834\n",
      "23        25      134993.055519\n",
      "32        34       95712.092064\n",
      "\n",
      " region consumption summary:\n",
      "   Region  total_consumption\n",
      "0       1      498403.234560\n",
      "1       2      442532.751781\n",
      "4       5      315891.633667\n",
      "2       3      204039.150401\n",
      "3       4      172894.047681\n",
      "5       6       98827.607540\n",
      "\n",
      " sector consumption summary:\n",
      "   Sector  total_consumption\n",
      "1       2      994296.256367\n",
      "0       1      738292.169264\n",
      "\n",
      " bottom 4 consuming districts\n",
      "    District  total_consumption\n",
      "11        12       18700.870238\n",
      "16        17       18196.805339\n",
      "27        29       17715.615945\n",
      "15        16       10268.560895\n"
     ]
    }
   ],
   "source": [
    "def summarize_consumption(df, group_col):\n",
    "    summary = df.groupby(group_col)['total_consumption'].sum().reset_index()\n",
    "    summary = summary.sort_values(by='total_consumption', ascending=False)\n",
    "    return summary\n",
    "\n",
    "district_summary= summarize_consumption(state_cleaned,'District')\n",
    "region_summary= summarize_consumption(state_cleaned,'Region')\n",
    "sector_summary= summarize_consumption(state_cleaned,'Sector')\n",
    "\n",
    "print(\"\\n top 4 consuming districts:\")\n",
    "print(district_summary.head(4))\n",
    "\n",
    "print(\"\\n region consumption summary:\")\n",
    "print(region_summary)\n",
    "\n",
    "print(\"\\n sector consumption summary:\")\n",
    "print(sector_summary)\n",
    "\n",
    "print(\"\\n bottom 4 consuming districts\")\n",
    "print(district_summary.tail(4))"
   ]
  },
  {
   "cell_type": "code",
   "execution_count": 27,
   "id": "31b5af21-c97f-4ae6-bbab-0b088f642640",
   "metadata": {},
   "outputs": [
    {
     "name": "stdout",
     "output_type": "stream",
     "text": [
      "\n",
      " updated district summary(after mapping):\n",
      "    District  total_consumption\n",
      "29    Mumbai      204660.832065\n",
      "33     Thane      187410.057834\n",
      "32      Pune      134993.055519\n",
      "28  Kolhapur       95712.092064\n",
      "\n",
      " region summary:\n",
      "   Region  total_consumption\n",
      "0       1      498403.234560\n",
      "1       2      442532.751781\n",
      "4       5      315891.633667\n",
      "2       3      204039.150401\n",
      "3       4      172894.047681\n",
      "5       6       98827.607540\n",
      "\n",
      " sector summary:\n",
      "  Sector  total_consumption\n",
      "1  URBAN      994296.256367\n",
      "0  RURAL      738292.169264\n",
      "      District  total_consumption\n",
      "26  Gadchiroli       18700.870238\n",
      "31    Parbhani       18196.805339\n",
      "30   Osmanabad       17715.615945\n",
      "27     Hingoli       10268.560895\n"
     ]
    }
   ],
   "source": [
    "state_cleaned['District']= state_cleaned['District'].astype(str)\n",
    "state_cleaned['Sector']= state_cleaned['Sector'].astype(str)\n",
    "\n",
    "district_mapping={\n",
    "    \"22\":\"Mumbai\", \"21\": \"Thane\", \"25\":\"Pune\",\n",
    "                      \"34\":\"Kolhapur\",\"12\":\"Gadchiroli\", \"17\":\"Parbhani\",\n",
    "                      \"29\":'Osmanabad',\"16\":\"Hingoli\"\n",
    "}\n",
    "\n",
    "sector_mapping={\"2\":\"URBAN\",\"1\":\"RURAL\"}\n",
    "\n",
    "state_cleaned['District']=state_cleaned['District'].map(district_mapping).fillna(state_subset['District'])\n",
    "state_cleaned['Sector']=state_cleaned['Sector'].map(sector_mapping).fillna(state_subset['Sector'])\n",
    "\n",
    "district_summary= summarize_consumption(state_cleaned,'District')\n",
    "region_summary= summarize_consumption(state_cleaned,'Region')\n",
    "sector_summary= summarize_consumption(state_cleaned,'Sector')\n",
    "\n",
    "print(\"\\n updated district summary(after mapping):\")\n",
    "print(district_summary.head(4))\n",
    "\n",
    "print(\"\\n region summary:\")\n",
    "print(region_summary)\n",
    "\n",
    "print(\"\\n sector summary:\")\n",
    "print(sector_summary)\n",
    "print(district_summary.tail(4))"
   ]
  },
  {
   "cell_type": "code",
   "execution_count": 22,
   "id": "fc7d5552-ac0c-438e-85f2-8e25f8d5f237",
   "metadata": {},
   "outputs": [],
   "source": [
    "first_district=district_summary.head(2).iloc[0]['District']"
   ]
  },
  {
   "cell_type": "code",
   "execution_count": 23,
   "id": "822f8719-8cdb-4322-aba0-9c883c1d7212",
   "metadata": {},
   "outputs": [
    {
     "data": {
      "text/plain": [
       "'Mumbai'"
      ]
     },
     "execution_count": 23,
     "metadata": {},
     "output_type": "execute_result"
    }
   ],
   "source": [
    "last_district=district_summary.head(2).iloc[0]['District']\n",
    "last_district"
   ]
  },
  {
   "cell_type": "code",
   "execution_count": 24,
   "id": "39b9f5ba-591e-44a5-96f9-7452fd77bb3c",
   "metadata": {},
   "outputs": [
    {
     "name": "stdout",
     "output_type": "stream",
     "text": [
      " Z-Test for Rural vs Urban Consumption\n",
      "Z-Score: -20.9189\n",
      "P-Value: 0.0\n",
      " Significant difference between Rural and Urban mean consumption (Reject H₀)\n"
     ]
    }
   ],
   "source": [
    "consumption_rural = state_cleaned[state_cleaned['Sector'] == 'RURAL']['total_consumption']\n",
    "consumption_urban = state_cleaned[state_cleaned['Sector'] == 'URBAN']['total_consumption']\n",
    "\n",
    "z_statistic, p_value = stests.ztest(consumption_rural, consumption_urban, alternative='two-sided')\n",
    "\n",
    "print(\" Z-Test for Rural vs Urban Consumption\")\n",
    "print(\"Z-Score:\", round(z_statistic, 4))\n",
    "print(\"P-Value:\", round(p_value, 4))\n",
    "\n",
    "if p_value < 0.05:\n",
    "    print(\" Significant difference between Rural and Urban mean consumption (Reject H₀)\")\n",
    "else:\n",
    "    print(\" No significant difference between Rural and Urban mean consumption (Fail to reject H₀)\")\n"
   ]
  },
  {
   "cell_type": "code",
   "execution_count": 28,
   "id": "49b3bd45-a0da-4f86-bdfd-c75052746fc8",
   "metadata": {},
   "outputs": [
    {
     "name": "stdout",
     "output_type": "stream",
     "text": [
      "Z test for top and bottom Consumption\n",
      "Z-Score: -20.9189\n",
      "P-Value: 0.0\n",
      " Significant difference between Mumbai and Hingoli mean consumption (Reject H₀)\n"
     ]
    }
   ],
   "source": [
    "top_district = state_cleaned[state_cleaned['District'] == district_summary.head(1).iloc[0]['District']]['total_consumption']\n",
    "bottom_district = state_cleaned[state_cleaned['District'] == district_summary.tail(1).iloc[0]['District']]['total_consumption']\n",
    "\n",
    "z_statistic, p_value = stests.ztest(consumption_rural, consumption_urban, alternative='two-sided')\n",
    "\n",
    "print(\"Z test for top and bottom Consumption\")\n",
    "print(\"Z-Score:\", round(z_statistic, 4))\n",
    "print(\"P-Value:\", round(p_value, 4))\n",
    "\n",
    "if p_value < 0.05:\n",
    "    print(f\" Significant difference between {district_summary.head(1).iloc[0]['District']} and {district_summary.tail(1).iloc[0]['District']} mean consumption (Reject H₀)\")\n",
    "else:\n",
    "    print(f\" No significant difference between {district_summary.head(1).iloc[0]['District']} and {district_summary.tail(1).iloc[0]['District']} mean consumption (Fail to reject H₀)\")\n"
   ]
  }
 ],
 "metadata": {
  "kernelspec": {
   "display_name": "Python [conda env:base] *",
   "language": "python",
   "name": "conda-base-py"
  },
  "language_info": {
   "codemirror_mode": {
    "name": "ipython",
    "version": 3
   },
   "file_extension": ".py",
   "mimetype": "text/x-python",
   "name": "python",
   "nbconvert_exporter": "python",
   "pygments_lexer": "ipython3",
   "version": "3.12.7"
  }
 },
 "nbformat": 4,
 "nbformat_minor": 5
}
