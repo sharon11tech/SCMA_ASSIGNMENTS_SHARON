{
 "cells": [
  {
   "cell_type": "code",
   "execution_count": 1,
   "id": "e24f4ad1-be38-4af0-9bdb-3b2a111140ab",
   "metadata": {},
   "outputs": [
    {
     "name": "stdout",
     "output_type": "stream",
     "text": [
      "Collecting factor_analyzer\n",
      "  Downloading factor_analyzer-0.5.1.tar.gz (42 kB)\n",
      "  Installing build dependencies: started\n",
      "  Installing build dependencies: finished with status 'done'\n",
      "  Getting requirements to build wheel: started\n",
      "  Getting requirements to build wheel: finished with status 'done'\n",
      "  Preparing metadata (pyproject.toml): started\n",
      "  Preparing metadata (pyproject.toml): finished with status 'done'\n",
      "Requirement already satisfied: pandas in c:\\users\\sharo\\anaconda3\\lib\\site-packages (from factor_analyzer) (2.2.2)\n",
      "Requirement already satisfied: scipy in c:\\users\\sharo\\anaconda3\\lib\\site-packages (from factor_analyzer) (1.13.1)\n",
      "Requirement already satisfied: numpy in c:\\users\\sharo\\anaconda3\\lib\\site-packages (from factor_analyzer) (1.26.4)\n",
      "Requirement already satisfied: scikit-learn in c:\\users\\sharo\\anaconda3\\lib\\site-packages (from factor_analyzer) (1.5.1)\n",
      "Requirement already satisfied: python-dateutil>=2.8.2 in c:\\users\\sharo\\anaconda3\\lib\\site-packages (from pandas->factor_analyzer) (2.9.0.post0)\n",
      "Requirement already satisfied: pytz>=2020.1 in c:\\users\\sharo\\anaconda3\\lib\\site-packages (from pandas->factor_analyzer) (2024.1)\n",
      "Requirement already satisfied: tzdata>=2022.7 in c:\\users\\sharo\\anaconda3\\lib\\site-packages (from pandas->factor_analyzer) (2023.3)\n",
      "Requirement already satisfied: joblib>=1.2.0 in c:\\users\\sharo\\anaconda3\\lib\\site-packages (from scikit-learn->factor_analyzer) (1.4.2)\n",
      "Requirement already satisfied: threadpoolctl>=3.1.0 in c:\\users\\sharo\\anaconda3\\lib\\site-packages (from scikit-learn->factor_analyzer) (3.5.0)\n",
      "Requirement already satisfied: six>=1.5 in c:\\users\\sharo\\anaconda3\\lib\\site-packages (from python-dateutil>=2.8.2->pandas->factor_analyzer) (1.16.0)\n",
      "Building wheels for collected packages: factor_analyzer\n",
      "  Building wheel for factor_analyzer (pyproject.toml): started\n",
      "  Building wheel for factor_analyzer (pyproject.toml): finished with status 'done'\n",
      "  Created wheel for factor_analyzer: filename=factor_analyzer-0.5.1-py2.py3-none-any.whl size=42715 sha256=d3b0e824d74128be92aa6fbfd7666384b7f0c25a15148b593ffec3b5e0cff64e\n",
      "  Stored in directory: c:\\users\\sharo\\appdata\\local\\pip\\cache\\wheels\\a2\\af\\06\\f4d4ed4d9d714fda437fb1583629417319603c2266e7b233cc\n",
      "Successfully built factor_analyzer\n",
      "Installing collected packages: factor_analyzer\n",
      "Successfully installed factor_analyzer-0.5.1\n"
     ]
    }
   ],
   "source": [
    "!pip install factor_analyzer \n",
    "\n",
    "import pandas as pd \n",
    "\n",
    "from sklearn.preprocessing import StandardScaler \n",
    "\n",
    "from sklearn.decomposition import PCA \n",
    "\n",
    "from factor_analyzer import FactorAnalyzer \n",
    "\n",
    "import matplotlib.pyplot as plt \n",
    "\n",
    "import seaborn as sns \n"
   ]
  },
  {
   "cell_type": "code",
   "execution_count": 3,
   "id": "53cb35bb-4226-449c-856a-e93ebdbe7acf",
   "metadata": {},
   "outputs": [],
   "source": [
    "df = pd.read_csv(\"C:\\\\vcu extra\\\\assignment\\\\data\\\\Survey.csv\")    "
   ]
  },
  {
   "cell_type": "code",
   "execution_count": 4,
   "id": "125b86e1-93bd-489f-9453-db62d16cf140",
   "metadata": {},
   "outputs": [],
   "source": [
    "# Step 1: Select only numerical columns relevant for PCA/FA\n",
    "numeric_cols = [\n",
    "    'Age', 'Monthly Household Income', 'Income', 'Number of rooms', 'Size of House', 'Budget',\n",
    "    'Maintainance', 'EMI', '1.Proximity to city', '2.Proximity to schools', '3. Proximity to transport',\n",
    "    '4. Proximity to work place', '5. Proximity to shopping', '1. Gym/Pool/Sports facility',\n",
    "    '2. Parking space', '3.Power back-up', '4.Water supply', '5.Security',\n",
    "    '1. Exterior look ', '2. Unit size', '3. Interior design and branded components',\n",
    "    '4. Layout plan (Integrated etc.)', '5. View from apartment',\n",
    "    '1. Price', '2. Booking amount', '3. Equated Monthly Instalment (EMI)',\n",
    "    '4. Maintenance charges', '5. Availability of loan',\n",
    "    '1. Builder reputation', '2. Appreciation potential',\n",
    "    '3. Profile of neighbourhood', '4. Availability of domestic help'\n",
    "]\n"
   ]
  },
  {
   "cell_type": "code",
   "execution_count": 5,
   "id": "67b776e6-0760-47bf-914e-8c768936a1dd",
   "metadata": {},
   "outputs": [
    {
     "name": "stdout",
     "output_type": "stream",
     "text": [
      "Index(['City', 'Sex', 'Age', 'Occupation', 'Monthly Household Income',\n",
      "       'Income', 'Planning to Buy a new house', 'Time Frame',\n",
      "       'Reasons for buying a house', 'what type of House', 'Number of rooms',\n",
      "       'Size of House', 'Budget', 'Finished/Semi Finished',\n",
      "       'Influence Decision', 'Maintainance', 'EMI', '1.Proximity to city',\n",
      "       '2.Proximity to schools', '3. Proximity to transport',\n",
      "       '4. Proximity to work place', '5. Proximity to shopping',\n",
      "       '1. Gym/Pool/Sports facility', '2. Parking space', '3.Power back-up',\n",
      "       '4.Water supply', '5.Security', '1. Exterior look ', '2. Unit size',\n",
      "       '3. Interior design and branded components',\n",
      "       '4. Layout plan (Integrated etc.)', '5. View from apartment',\n",
      "       '1. Price', '2. Booking amount', '3. Equated Monthly Instalment (EMI)',\n",
      "       '4. Maintenance charges', '5. Availability of loan',\n",
      "       '1. Builder reputation', '2. Appreciation potential',\n",
      "       '3. Profile of neighbourhood', '4. Availability of domestic help',\n",
      "       'Time', 'Size', 'Budgets', 'Maintainances', 'EMI.1', 'ages', 'sex',\n",
      "       'Finished/Semi Finished.1', 'Influence Decision.1'],\n",
      "      dtype='object')\n"
     ]
    }
   ],
   "source": [
    "print(df.columns)"
   ]
  },
  {
   "cell_type": "code",
   "execution_count": 6,
   "id": "16a4d3b8-df36-469c-ad4b-b6255236cfac",
   "metadata": {},
   "outputs": [
    {
     "name": "stdout",
     "output_type": "stream",
     "text": [
      "Column 'Age' has object dtype and contains unique values:\n",
      "['26-35' '46-60' '36-45' '18-25' '>60']\n",
      "\n",
      "Column 'Monthly Household Income' has object dtype and contains unique values:\n",
      "['85,001 to105,000' '45,001 to 65,000' '25,001 to 45,000' '>125000'\n",
      " '65,0001 to 85,000' '105,000 to 125000']\n",
      "\n",
      "Column 'Number of rooms' has object dtype and contains unique values:\n",
      "['2BHK' '1BHK' '3BHK' '4BHK']\n",
      "\n",
      "Column 'Size of House' has object dtype and contains unique values:\n",
      "['1001-1400' '601-1000' '<600' '1401-1800' '2200-2600' '1801-2200' '>2600']\n",
      "\n",
      "Column 'Budget' has object dtype and contains unique values:\n",
      "['65.1 to 80L' '25.1 to 40L' '<25L' '95.1 to110L' '40.1 to 65L'\n",
      " '80.1 to 95L' '>110']\n",
      "\n",
      "Column 'Maintainance' has object dtype and contains unique values:\n",
      "['2001to 4000' '<2000' '6001 to 8000' '4001 to 6000' '8001 to 10000'\n",
      " '>10000']\n",
      "\n",
      "Column 'EMI' has object dtype and contains unique values:\n",
      "['35.1K to 50K' '20.1K to 35K' '<20K' '>65K' '50.1K to 65K']\n",
      "\n"
     ]
    }
   ],
   "source": [
    "# Investigate non-numeric columns\n",
    "for col in numeric_cols:\n",
    "  if df[col].dtype == 'object':\n",
    "    print(f\"Column '{col}' has object dtype and contains unique values:\\n{df[col].unique()}\\n\")\n"
   ]
  },
  {
   "cell_type": "code",
   "execution_count": 7,
   "id": "849cd354-85a9-4ea5-bf55-f1ba2ad93558",
   "metadata": {},
   "outputs": [],
   "source": [
    "# Convert categorical columns to numerical\n",
    "def map_age(age_range):\n",
    "    if age_range == '18-25': return 21.5\n",
    "    elif age_range == '26-35': return 30.5\n",
    "    elif age_range == '36-45': return 40.5\n",
    "    elif age_range == '46-60': return 53\n",
    "    elif age_range == '>60': return 70\n",
    "    return None\n",
    "\n",
    "def map_income(income_range):\n",
    "    if income_range == '<25000': return 12500 # Assuming <25000\n",
    "    elif income_range == '25,001 to 45,000': return 35000\n",
    "    elif income_range == '45,001 to 65,000': return 55000\n",
    "    elif income_range == '65,0001 to 85,000': return 75000.5 # Corrected typo in range\n",
    "    elif income_range == '85,001 to105,000': return 95000.5 # Corrected typo in range\n",
    "    elif income_range == '105,000 to 125000': return 115000\n",
    "    elif income_range == '>125000': return 150000 # Assuming >125000\n",
    "    return None\n",
    "\n",
    "def map_rooms(rooms):\n",
    "    if rooms == '1BHK': return 1\n",
    "    elif rooms == '2BHK': return 2\n",
    "    elif rooms == '3BHK': return 3\n",
    "    elif rooms == '4BHK': return 4\n",
    "    return None\n",
    "\n",
    "def map_size(size_range):\n",
    "    if size_range == '<600': return 300\n",
    "    elif size_range == '601-1000': return 800.5\n",
    "    elif size_range == '1001-1400': return 1200.5\n",
    "    elif size_range == '1401-1800': return 1600.5\n",
    "    elif size_range == '1801-2200': return 2000.5\n",
    "    elif size_range == '2200-2600': return 2400.5\n",
    "    elif size_range == '>2600': return 3000 # Assuming >2600\n",
    "    return None\n",
    "\n",
    "def map_budget(budget_range):\n",
    "    if budget_range == '<25L': return 12.5\n",
    "    elif budget_range == '25.1 to 40L': return 32.55\n",
    "    elif budget_range == '40.1 to 65L': return 52.55\n",
    "    elif budget_range == '65.1 to 80L': return 72.55\n",
    "    elif budget_range == '80.1 to 95L': return 87.55\n",
    "    elif budget_range == '95.1 to110L': return 102.55 # Corrected typo\n",
    "    elif budget_range == '>110': return 120 # Assuming >110L\n",
    "    return None\n",
    "\n",
    "def map_maintainance(maintainance_range):\n",
    "    if maintainance_range == '<2000': return 1000\n",
    "    elif maintainance_range == '2001to 4000': return 3000.5 # Corrected typo\n",
    "    elif maintainance_range == '4001 to 6000': return 5000.5\n",
    "    elif maintainance_range == '6001 to 8000': return 7000.5\n",
    "    elif maintainance_range == '8001 to 10000': return 9000.5\n",
    "    elif maintainance_range == '>10000': return 11000 # Assuming >10000\n",
    "    return None\n",
    "\n",
    "def map_emi(emi_range):\n",
    "    if emi_range == '<20K': return 10000\n",
    "    elif emi_range == '20.1K to 35K': return 27500.5\n",
    "    elif emi_range == '35.1K to 50K': return 42500.5\n",
    "    elif emi_range == '50.1K to 65K': return 57500.5\n",
    "    elif emi_range == '>65K': return 70000 # Assuming >65K\n",
    "    return None\n",
    "\n",
    "df['Age_numeric'] = df['Age'].apply(map_age)\n",
    "df['Monthly Household Income_numeric'] = df['Monthly Household Income'].apply(map_income)\n",
    "df['Number of rooms_numeric'] = df['Number of rooms'].apply(map_rooms)\n",
    "df['Size of House_numeric'] = df['Size of House'].apply(map_size)\n",
    "df['Budget_numeric'] = df['Budget'].apply(map_budget)\n",
    "df['Maintainance_numeric'] = df['Maintainance'].apply(map_maintainance)\n",
    "df['EMI_numeric'] = df['EMI'].apply(map_emi)\n",
    "\n"
   ]
  },
  {
   "cell_type": "code",
   "execution_count": 8,
   "id": "f3461c98-ed94-4868-9a5b-418594fce5c7",
   "metadata": {},
   "outputs": [],
   "source": [
    "numeric_cols_processed = [col for col in numeric_cols if df[col].dtype != 'object']\n",
    "\n",
    "\n",
    "\n",
    "\n",
    "numeric_cols_processed.extend(['Age_numeric', 'Monthly Household Income_numeric', 'Number of rooms_numeric', 'Size of House_numeric', 'Budget_numeric', 'Maintainance_numeric', 'EMI_numeric'])\n"
   ]
  },
  {
   "cell_type": "code",
   "execution_count": 10,
   "id": "cceae596-73f2-48a1-abe1-450108919473",
   "metadata": {},
   "outputs": [],
   "source": [
    "# Drop missing values\n",
    "df_numeric = df[numeric_cols_processed].dropna()\n",
    "\n",
    "# Standardize\n",
    "scaler = StandardScaler()\n",
    "scaled_data = scaler.fit_transform(df_numeric)\n",
    "\n"
   ]
  },
  {
   "cell_type": "code",
   "execution_count": 11,
   "id": "78282a2c-d512-44c2-a4ea-e1ac6c059d0d",
   "metadata": {},
   "outputs": [],
   "source": [
    "pca = PCA()\n",
    "pca_result = pca.fit_transform(scaled_data)\n"
   ]
  },
  {
   "cell_type": "code",
   "execution_count": 12,
   "id": "2a942fc6-22af-437a-822d-5307d83b3105",
   "metadata": {},
   "outputs": [
    {
     "data": {
      "image/png": "[encoded data removed]",
      "text/plain": [
       "<Figure size 800x500 with 1 Axes>"
      ]
     },
     "metadata": {},
     "output_type": "display_data"
    },
    {
     "name": "stdout",
     "output_type": "stream",
     "text": [
      "Factor Loadings:\n",
      "                                               0     1     2     3     4\n",
      "Income                                     0.84  0.38  0.03 -0.07  0.13\n",
      "1.Proximity to city                        0.50  0.05  0.53  0.13 -0.32\n",
      "2.Proximity to schools                     0.21  0.19  0.45 -0.17  0.19\n",
      "3. Proximity to transport                 -0.06 -0.04 -0.13  0.01  0.51\n",
      "4. Proximity to work place                 0.00 -0.06  0.76 -0.03  0.01\n",
      "5. Proximity to shopping                   0.22  0.69  0.21  0.33 -0.07\n",
      "1. Gym/Pool/Sports facility                0.23  0.45  0.21 -0.11  0.19\n",
      "2. Parking space                           0.27  0.48  0.28 -0.17 -0.01\n",
      "3.Power back-up                            0.06  0.41  0.48  0.06 -0.01\n",
      "4.Water supply                             0.35  0.34  0.18 -0.08  0.69\n",
      "5.Security                                 0.13  0.72 -0.04 -0.08  0.28\n",
      "1. Exterior look                           0.50  0.53 -0.03  0.31 -0.38\n",
      "2. Unit size                               0.22  0.01 -0.08 -0.11  0.02\n",
      "3. Interior design and branded components  0.45  0.54  0.28 -0.06 -0.05\n",
      "4. Layout plan (Integrated etc.)           0.44  0.33  0.40 -0.07 -0.07\n",
      "5. View from apartment                     0.43  0.67  0.11 -0.03 -0.06\n",
      "1. Price                                   0.32  0.04  0.17 -0.03  0.47\n",
      "2. Booking amount                          0.03  0.08 -0.12  0.56 -0.12\n",
      "3. Equated Monthly Instalment (EMI)       -0.05 -0.06 -0.06  0.54  0.27\n",
      "4. Maintenance charges                    -0.16 -0.02 -0.06  0.35 -0.07\n",
      "5. Availability of loan                   -0.09 -0.14  0.21  0.81 -0.06\n",
      "1. Builder reputation                      0.60  0.10  0.09 -0.16  0.24\n",
      "2. Appreciation potential                  0.31  0.15  0.03  0.25  0.02\n",
      "3. Profile of neighbourhood                0.48  0.51  0.04 -0.20  0.27\n",
      "4. Availability of domestic help           0.36  0.69 -0.25  0.05 -0.10\n",
      "Age_numeric                                0.49  0.33 -0.24 -0.12  0.04\n",
      "Monthly Household Income_numeric           0.89  0.35  0.04 -0.07  0.06\n",
      "Number of rooms_numeric                    0.91  0.20  0.18 -0.02 -0.00\n",
      "Size of House_numeric                      0.85  0.33  0.18  0.00  0.04\n",
      "Budget_numeric                             0.91  0.27  0.17 -0.02  0.08\n",
      "Maintainance_numeric                       0.79  0.33  0.24 -0.01  0.13\n",
      "EMI_numeric                                0.83  0.29  0.30 -0.07 -0.01\n"
     ]
    }
   ],
   "source": [
    "# Plot Scree Plot\n",
    "plt.figure(figsize=(8,5))\n",
    "plt.plot(range(1, len(pca.explained_variance_ratio_)+1), pca.explained_variance_ratio_.cumsum(), marker='o')\n",
    "plt.title('Cumulative Explained Variance (PCA)')\n",
    "plt.xlabel('Number of Components')\n",
    "plt.ylabel('Cumulative Variance')\n",
    "plt.grid(True)\n",
    "plt.show()\n",
    "\n",
    "# Step 3: Factor Analysis (number of factors based on Eigenvalues > 1)\n",
    "fa = FactorAnalyzer(n_factors=5, rotation='varimax')  # Adjust factor count based on scree plot or eigenvalues\n",
    "fa.fit(scaled_data)\n",
    "\n",
    "# Show Loadings\n",
    "loadings = pd.DataFrame(fa.loadings_, index=numeric_cols_processed)\n",
    "print(\"Factor Loadings:\\n\", loadings.round(2))\n"
   ]
  },
  {
   "cell_type": "code",
   "execution_count": 13,
   "id": "43c1e0be-e30c-4008-ba1b-41527ac98976",
   "metadata": {},
   "outputs": [],
   "source": [
    "import pandas as pd\n",
    "from sklearn.preprocessing import StandardScaler, LabelEncoder\n",
    "from sklearn.cluster import KMeans\n",
    "from sklearn.metrics import silhouette_score\n",
    "import matplotlib.pyplot as plt\n",
    "import seaborn as sns\n"
   ]
  },
  {
   "cell_type": "code",
   "execution_count": 15,
   "id": "8e9622a9-3bea-40d9-a393-5673e7a20c1a",
   "metadata": {},
   "outputs": [],
   "source": [
    "df = pd.read_csv(\"C:\\\\vcu extra\\\\assignment\\\\data\\\\Survey.csv\")  "
   ]
  },
  {
   "cell_type": "code",
   "execution_count": 17,
   "id": "2c8cc468-c002-4832-b831-7d224f40a9d5",
   "metadata": {},
   "outputs": [],
   "source": [
    "vars_to_use = ['Age', 'Sex', 'Occupation', 'Monthly Household Income', 'Income', 'Number of rooms', 'Size of House', 'Budget']\n",
    "data = df[vars_to_use].dropna().copy() \n"
   ]
  },
  {
   "cell_type": "code",
   "execution_count": 18,
   "id": "746ce3cd-917f-47a8-a745-da3d1272604f",
   "metadata": {},
   "outputs": [],
   "source": [
    "# Convert categorical columns to numerical using mapping functions from the previous cell\n",
    "def map_age(age_range):\n",
    "    if age_range == '18-25': return 21.5\n",
    "    elif age_range == '26-35': return 30.5\n",
    "    elif age_range == '36-45': return 40.5\n",
    "    elif age_range == '46-60': return 53\n",
    "    elif age_range == '>60': return 70\n",
    "    return None\n",
    "\n",
    "def map_income(income_range):\n",
    "    if income_range == '<25000': return 12500 # Assuming <25000\n",
    "    elif income_range == '25,001 to 45,000': return 35000\n",
    "    elif income_range == '45,001 to 65,000': return 55000\n",
    "    elif income_range == '65,0001 to 85,000': return 75000.5 # Corrected typo in range\n",
    "    elif income_range == '85,001 to105,000': return 95000.5 # Corrected typo in range\n",
    "    elif income_range == '105,000 to 125000': return 115000\n",
    "    elif income_range == '>125000': return 150000 # Assuming >125000\n",
    "    return None\n",
    "\n",
    "def map_rooms(rooms):\n",
    "    if rooms == '1BHK': return 1\n",
    "    elif rooms == '2BHK': return 2\n",
    "    elif rooms == '3BHK': return 3\n",
    "    elif rooms == '4BHK': return 4\n",
    "    return None\n",
    "\n",
    "def map_size(size_range):\n",
    "    if size_range == '<600': return 300\n",
    "    elif size_range == '601-1000': return 800.5\n",
    "    elif size_range == '1001-1400': return 1200.5\n",
    "    elif size_range == '1401-1800': return 1600.5\n",
    "    elif size_range == '1801-2200': return 2000.5\n",
    "    elif size_range == '2200-2600': return 2400.5\n",
    "    elif size_range == '>2600': return 3000 # Assuming >2600\n",
    "    return None\n",
    "\n",
    "def map_budget(budget_range):\n",
    "    if budget_range == '<25L': return 12.5\n",
    "    elif budget_range == '25.1 to 40L': return 32.55\n",
    "    elif budget_range == '40.1 to 65L': return 52.55\n",
    "    elif budget_range == '65.1 to 80L': return 72.55\n",
    "    elif budget_range == '80.1 to 95L': return 87.55\n",
    "    elif budget_range == '95.1 to110L': return 102.55 # Corrected typo\n",
    "    elif budget_range == '>110': return 120 # Assuming >110L\n",
    "    return None\n",
    "\n",
    "def map_maintainance(maintainance_range):\n",
    "    if maintainance_range == '<2000': return 1000\n",
    "    elif maintainance_range == '2001to 4000': return 3000.5 # Corrected typo\n",
    "    elif maintainance_range == '4001 to 6000': return 5000.5\n",
    "    elif maintainance_range == '6001 to 8000': return 7000.5\n",
    "    elif maintainance_range == '8001 to 10000': return 9000.5\n",
    "    elif maintainance_range == '>10000': return 11000 # Assuming >10000\n",
    "    return None\n",
    "\n",
    "def map_emi(emi_range):\n",
    "    if emi_range == '<20K': return 10000\n",
    "    elif emi_range == '20.1K to 35K': return 27500.5\n",
    "    elif emi_range == '35.1K to 50K': return 42500.5\n",
    "    elif emi_range == '50.1K to 65K': return 57500.5\n",
    "    elif emi_range == '>65K': return 70000 # Assuming >65K\n",
    "    return None\n",
    "\n",
    "data['Age'] = data['Age'].apply(map_age)\n",
    "data['Monthly Household Income'] = data['Monthly Household Income'].apply(map_income)\n",
    "data['Number of rooms'] = data['Number of rooms'].apply(map_rooms)\n",
    "data['Size of House'] = data['Size of House'].apply(map_size)\n",
    "data['Budget'] = data['Budget'].apply(map_budget)\n"
   ]
  },
  {
   "cell_type": "code",
   "execution_count": 19,
   "id": "7b2e86c1-5f6d-4b1f-8996-fe71d0c8c082",
   "metadata": {},
   "outputs": [],
   "source": [
    "# Step 2: Encode categorical columns\n",
    "label_encoders = {}\n",
    "for col in ['Sex', 'Occupation']:\n",
    "    le = LabelEncoder()\n",
    "    data[col] = le.fit_transform(data[col])\n",
    "    label_encoders[col] = le\n"
   ]
  },
  {
   "cell_type": "code",
   "execution_count": 20,
   "id": "b563b95b-38c4-469f-9ee4-6d3ecb03d5e1",
   "metadata": {},
   "outputs": [],
   "source": [
    "scaler = StandardScaler()\n",
    "data_scaled = scaler.fit_transform(data)\n"
   ]
  },
  {
   "cell_type": "code",
   "execution_count": 21,
   "id": "9dafbeff-f18e-4d56-8a98-ef8778c52871",
   "metadata": {},
   "outputs": [
    {
     "name": "stderr",
     "output_type": "stream",
     "text": [
      "C:\\Users\\sharo\\anaconda3\\Lib\\site-packages\\sklearn\\cluster\\_kmeans.py:1429: UserWarning: KMeans is known to have a memory leak on Windows with MKL, when there are less chunks than available threads. You can avoid it by setting the environment variable OMP_NUM_THREADS=1.\n",
      "  warnings.warn(\n",
      "C:\\Users\\sharo\\anaconda3\\Lib\\site-packages\\sklearn\\cluster\\_kmeans.py:1429: UserWarning: KMeans is known to have a memory leak on Windows with MKL, when there are less chunks than available threads. You can avoid it by setting the environment variable OMP_NUM_THREADS=1.\n",
      "  warnings.warn(\n",
      "C:\\Users\\sharo\\anaconda3\\Lib\\site-packages\\sklearn\\cluster\\_kmeans.py:1429: UserWarning: KMeans is known to have a memory leak on Windows with MKL, when there are less chunks than available threads. You can avoid it by setting the environment variable OMP_NUM_THREADS=1.\n",
      "  warnings.warn(\n",
      "C:\\Users\\sharo\\anaconda3\\Lib\\site-packages\\sklearn\\cluster\\_kmeans.py:1429: UserWarning: KMeans is known to have a memory leak on Windows with MKL, when there are less chunks than available threads. You can avoid it by setting the environment variable OMP_NUM_THREADS=1.\n",
      "  warnings.warn(\n",
      "C:\\Users\\sharo\\anaconda3\\Lib\\site-packages\\sklearn\\cluster\\_kmeans.py:1429: UserWarning: KMeans is known to have a memory leak on Windows with MKL, when there are less chunks than available threads. You can avoid it by setting the environment variable OMP_NUM_THREADS=1.\n",
      "  warnings.warn(\n",
      "C:\\Users\\sharo\\anaconda3\\Lib\\site-packages\\sklearn\\cluster\\_kmeans.py:1429: UserWarning: KMeans is known to have a memory leak on Windows with MKL, when there are less chunks than available threads. You can avoid it by setting the environment variable OMP_NUM_THREADS=1.\n",
      "  warnings.warn(\n",
      "C:\\Users\\sharo\\anaconda3\\Lib\\site-packages\\sklearn\\cluster\\_kmeans.py:1429: UserWarning: KMeans is known to have a memory leak on Windows with MKL, when there are less chunks than available threads. You can avoid it by setting the environment variable OMP_NUM_THREADS=1.\n",
      "  warnings.warn(\n",
      "C:\\Users\\sharo\\anaconda3\\Lib\\site-packages\\sklearn\\cluster\\_kmeans.py:1429: UserWarning: KMeans is known to have a memory leak on Windows with MKL, when there are less chunks than available threads. You can avoid it by setting the environment variable OMP_NUM_THREADS=1.\n",
      "  warnings.warn(\n"
     ]
    },
    {
     "data": {
      "image/png": "[encoded data removed]",
      "text/plain": [
       "<Figure size 800x500 with 1 Axes>"
      ]
     },
     "metadata": {},
     "output_type": "display_data"
    }
   ],
   "source": [
    "inertias = []\n",
    "K_range = range(2, 10)\n",
    "\n",
    "for k in K_range:\n",
    "    km = KMeans(n_clusters=k, random_state=42, n_init=10) # Added n_init for KMeans\n",
    "    km.fit(data_scaled)\n",
    "    inertias.append(km.inertia_)\n",
    "\n",
    "# Plot Elbow Curve\n",
    "plt.figure(figsize=(8, 5))\n",
    "plt.plot(K_range, inertias, marker='o')\n",
    "plt.title('Elbow Method for Optimal Clusters')\n",
    "plt.xlabel('Number of Clusters')\n",
    "plt.ylabel('Inertia')\n",
    "plt.grid(True)\n",
    "plt.show()\n"
   ]
  },
  {
   "cell_type": "code",
   "execution_count": 22,
   "id": "a34eca63-8b57-4bd1-b857-8f599a584553",
   "metadata": {},
   "outputs": [],
   "source": [
    "import pandas as pd\n",
    "from sklearn.preprocessing import StandardScaler\n",
    "from sklearn.manifold import MDS\n",
    "import matplotlib.pyplot as plt\n"
   ]
  },
  {
   "cell_type": "code",
   "execution_count": 23,
   "id": "13650f5e-16a6-4c3d-a19d-d1f904d63146",
   "metadata": {},
   "outputs": [],
   "source": [
    "df = pd.read_csv(\"C:\\\\vcu extra\\\\assignment\\\\data\\\\icecream.csv\") "
   ]
  },
  {
   "cell_type": "code",
   "execution_count": 24,
   "id": "a400912d-51c1-40e4-9215-c28b3f40fc3e",
   "metadata": {},
   "outputs": [],
   "source": [
    "df.set_index(\"Brand\", inplace=True)"
   ]
  },
  {
   "cell_type": "code",
   "execution_count": 25,
   "id": "6062205b-82d8-4b23-b215-e6d87f332b29",
   "metadata": {},
   "outputs": [],
   "source": [
    "scaler = StandardScaler()\n",
    "scaled_data = scaler.fit_transform(df)\n"
   ]
  },
  {
   "cell_type": "code",
   "execution_count": 26,
   "id": "056c488d-811a-4fab-a121-26de3451617d",
   "metadata": {},
   "outputs": [],
   "source": [
    "mds = MDS(n_components=2, dissimilarity='euclidean', random_state=42)\n",
    "mds_coords = mds.fit_transform(scaled_data)\n"
   ]
  },
  {
   "cell_type": "code",
   "execution_count": 27,
   "id": "27af0433-6ec4-43be-9183-7d877dcc4743",
   "metadata": {},
   "outputs": [],
   "source": [
    "mds_df = pd.DataFrame(mds_coords, columns=['Dim1', 'Dim2'], index=df.index)"
   ]
  },
  {
   "cell_type": "code",
   "execution_count": 28,
   "id": "e09c967f-25e0-474f-ae02-7daf9c14dbec",
   "metadata": {},
   "outputs": [
    {
     "data": {
      "image/png": "[encoded data removed]",
      "text/plain": [
       "<Figure size 1000x600 with 1 Axes>"
      ]
     },
     "metadata": {},
     "output_type": "display_data"
    }
   ],
   "source": [
    "plt.figure(figsize=(10, 6))\n",
    "plt.scatter(mds_df['Dim1'], mds_df['Dim2'], s=100)\n",
    "\n",
    "for brand, (x, y) in mds_df.iterrows():\n",
    "    plt.text(x + 0.02, y + 0.02, brand, fontsize=10)\n",
    "\n",
    "plt.title('MDS Plot of Ice Cream Brands')\n",
    "plt.xlabel('Dimension 1')\n",
    "plt.ylabel('Dimension 2')\n",
    "plt.grid(True)\n",
    "plt.show()\n"
   ]
  },
  {
   "cell_type": "code",
   "execution_count": 29,
   "id": "2882cb82-27eb-45d7-8aa8-f8ebbe474e26",
   "metadata": {},
   "outputs": [],
   "source": [
    "import pandas as pd\n",
    "import statsmodels.api as sm\n",
    "from sklearn.preprocessing import OneHotEncoder\n"
   ]
  },
  {
   "cell_type": "code",
   "execution_count": 30,
   "id": "4ff8a808-3343-4271-ae53-925074b6e0f4",
   "metadata": {},
   "outputs": [],
   "source": [
    "df = pd.read_csv(\"C:\\\\vcu extra\\\\assignment\\\\data\\\\pizza_data.csv\") "
   ]
  },
  {
   "cell_type": "code",
   "execution_count": 31,
   "id": "8052b05e-9110-466a-bd6a-391ea0e38c53",
   "metadata": {},
   "outputs": [],
   "source": [
    "X = df.drop(columns=['ranking'])\n",
    "y = df['ranking']\n"
   ]
  },
  {
   "cell_type": "code",
   "execution_count": 32,
   "id": "40ae986f-129d-4770-8650-7da6b676148e",
   "metadata": {},
   "outputs": [],
   "source": [
    "X_encoded = pd.get_dummies(X, drop_first=True)"
   ]
  },
  {
   "cell_type": "code",
   "execution_count": 33,
   "id": "3b845f7f-0668-47c6-8bce-9b859613df05",
   "metadata": {},
   "outputs": [],
   "source": [
    "for col in X_encoded.columns:\n",
    "    if X_encoded[col].dtype == 'bool':\n",
    "        X_encoded[col] = X_encoded[col].astype(int)\n"
   ]
  },
  {
   "cell_type": "code",
   "execution_count": 34,
   "id": "1c5f5f15-3293-45d9-9077-f34bdb43904b",
   "metadata": {},
   "outputs": [
    {
     "name": "stdout",
     "output_type": "stream",
     "text": [
      "brand_Onesta         int32\n",
      "brand_Oven Story     int32\n",
      "brand_Pizza hut      int32\n",
      "price_$2.00          int32\n",
      "price_$3.00          int32\n",
      "price_$4.00          int32\n",
      "weight_200g          int32\n",
      "weight_300g          int32\n",
      "weight_400g          int32\n",
      "crust_thin           int32\n",
      "cheese_Mozzarella    int32\n",
      "size_regular         int32\n",
      "toppings_paneer      int32\n",
      "spicy_normal         int32\n",
      "dtype: object\n"
     ]
    }
   ],
   "source": [
    "print(X_encoded.dtypes)"
   ]
  },
  {
   "cell_type": "code",
   "execution_count": 35,
   "id": "6e8d4c8f-25c7-4063-bb5c-19913366958c",
   "metadata": {},
   "outputs": [
    {
     "name": "stdout",
     "output_type": "stream",
     "text": [
      "                            OLS Regression Results                            \n",
      "==============================================================================\n",
      "Dep. Variable:                ranking   R-squared:                       0.999\n",
      "Model:                            OLS   Adj. R-squared:                  0.989\n",
      "Method:                 Least Squares   F-statistic:                     97.07\n",
      "Date:                Sat, 12 Jul 2025   Prob (F-statistic):             0.0794\n",
      "Time:                        12:13:48   Log-Likelihood:                 10.568\n",
      "No. Observations:                  16   AIC:                             8.864\n",
      "Df Residuals:                       1   BIC:                             20.45\n",
      "Df Model:                          14                                         \n",
      "Covariance Type:            nonrobust                                         \n",
      "=====================================================================================\n",
      "                        coef    std err          t      P>|t|      [0.025      0.975]\n",
      "-------------------------------------------------------------------------------------\n",
      "const                17.3750      0.484     35.890      0.018      11.224      23.526\n",
      "brand_Onesta       -1.51e-14      0.354  -4.27e-14      1.000      -4.492       4.492\n",
      "brand_Oven Story     -0.2500      0.354     -0.707      0.608      -4.742       4.242\n",
      "brand_Pizza hut       0.2500      0.354      0.707      0.608      -4.242       4.742\n",
      "price_$2.00          -0.7500      0.354     -2.121      0.280      -5.242       3.742\n",
      "price_$3.00          -0.7500      0.354     -2.121      0.280      -5.242       3.742\n",
      "price_$4.00          -1.5000      0.354     -4.243      0.147      -5.992       2.992\n",
      "weight_200g          -3.0000      0.354     -8.485      0.075      -7.492       1.492\n",
      "weight_300g          -6.2500      0.354    -17.678      0.036     -10.742      -1.758\n",
      "weight_400g         -10.7500      0.354    -30.406      0.021     -15.242      -6.258\n",
      "crust_thin           -3.5000      0.250    -14.000      0.045      -6.677      -0.323\n",
      "cheese_Mozzarella     0.5000      0.250      2.000      0.295      -2.677       3.677\n",
      "size_regular          0.5000      0.250      2.000      0.295      -2.677       3.677\n",
      "toppings_paneer      -2.2500      0.250     -9.000      0.070      -5.427       0.927\n",
      "spicy_normal         -1.5000      0.250     -6.000      0.105      -4.677       1.677\n",
      "==============================================================================\n",
      "Omnibus:                       30.796   Durbin-Watson:                   2.000\n",
      "Prob(Omnibus):                  0.000   Jarque-Bera (JB):                2.667\n",
      "Skew:                           0.000   Prob(JB):                        0.264\n",
      "Kurtosis:                       1.000   Cond. No.                         9.06\n",
      "==============================================================================\n",
      "\n",
      "Notes:\n",
      "[1] Standard Errors assume that the covariance matrix of the errors is correctly specified.\n"
     ]
    },
    {
     "name": "stderr",
     "output_type": "stream",
     "text": [
      "C:\\Users\\sharo\\anaconda3\\Lib\\site-packages\\scipy\\stats\\_axis_nan_policy.py:531: UserWarning: kurtosistest only valid for n>=20 ... continuing anyway, n=16\n",
      "  res = hypotest_fun_out(*samples, **kwds)\n"
     ]
    }
   ],
   "source": [
    "X_encoded = sm.add_constant(X_encoded)\n",
    "\n",
    "# Fit the model\n",
    "model = sm.OLS(y, X_encoded).fit()\n",
    "\n",
    "# View summary\n",
    "print(model.summary())\n",
    "\n",
    "import numpy as np\n",
    "\n",
    "importance = {}\n"
   ]
  },
  {
   "cell_type": "code",
   "execution_count": 36,
   "id": "c31cda3f-2b18-42b1-8c94-de0d5d10b745",
   "metadata": {},
   "outputs": [],
   "source": [
    "encoded_cols_map = {}\n",
    "for attribute in X.columns:\n",
    "    # Get the columns in X_encoded that originated from this attribute\n",
    "    encoded_cols = [col for col in X_encoded.columns if col.startswith(attribute + '_')]\n",
    "    if encoded_cols:\n",
    "        encoded_cols_map[attribute] = encoded_cols\n",
    "    # Handle the case where an attribute might have only one level after drop_first=True\n",
    "    elif attribute in X_encoded.columns:\n",
    "         encoded_cols_map[attribute] = [attribute]\n",
    "\n",
    "for attribute, cols in encoded_cols_map.items():\n",
    "    # Get the coefficients for the encoded columns corresponding to the attribute\n",
    "    coefs = model.params[cols]\n",
    "    rng = max(coefs) - min(coefs)\n",
    "    importance[attribute] = rng\n"
   ]
  },
  {
   "cell_type": "code",
   "execution_count": 37,
   "id": "e9850dd4-3262-4df1-82b7-d5c27b384513",
   "metadata": {},
   "outputs": [
    {
     "name": "stdout",
     "output_type": "stream",
     "text": [
      "          Importance (%)\n",
      "weight             86.11\n",
      "price               8.33\n",
      "brand               5.56\n",
      "crust               0.00\n",
      "cheese              0.00\n",
      "size                0.00\n",
      "toppings            0.00\n",
      "spicy               0.00\n"
     ]
    }
   ],
   "source": [
    "total = sum(importance.values())\n",
    "importance_percent = {k: round((v / total) * 100, 2) for k, v in importance.items()}\n",
    "importance_df = pd.DataFrame.from_dict(importance_percent, orient='index', columns=['Importance (%)'])\n",
    "print(importance_df.sort_values(by='Importance (%)', ascending=False))\n"
   ]
  }
 ],
 "metadata": {
  "kernelspec": {
   "display_name": "Python [conda env:base] *",
   "language": "python",
   "name": "conda-base-py"
  },
  "language_info": {
   "codemirror_mode": {
    "name": "ipython",
    "version": 3
   },
   "file_extension": ".py",
   "mimetype": "text/x-python",
   "name": "python",
   "nbconvert_exporter": "python",
   "pygments_lexer": "ipython3",
   "version": "3.12.7"
  }
 },
 "nbformat": 4,
 "nbformat_minor": 5
}
